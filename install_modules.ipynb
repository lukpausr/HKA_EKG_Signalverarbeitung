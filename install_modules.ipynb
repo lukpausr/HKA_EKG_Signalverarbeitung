{
 "cells": [
  {
   "cell_type": "markdown",
   "id": "48a12ab9",
   "metadata": {},
   "source": [
    "# Guide to Install Python and Required Modules\n",
    "\n",
    "## Step 1: Install Anaconda\n",
    "1. Setup python by installing Anaconda: [https://www.anaconda.com/download](https://www.anaconda.com/download).\n",
    "2. Follow the installation instructions for your operating system.\n",
    "\n",
    "## Step 2: Setup a anaconda environment\n",
    "1. After installation, you can use the `conda` command to manage environments and packages.\n",
    "2. To create a new environment using Python 3.12.3 named `VDKI-Projekt`, run the following command in your terminal or command prompt:"
   ]
  },
  {
   "cell_type": "raw",
   "id": "c5c64c56",
   "metadata": {
    "vscode": {
     "languageId": "raw"
    }
   },
   "source": [
    "conda create --name HKA_EKG_Signalverarbeitung python=3.12.3"
   ]
  },
  {
   "cell_type": "markdown",
   "id": "1ed22285",
   "metadata": {},
   "source": [
    "3. Activate the environment using:"
   ]
  },
  {
   "cell_type": "raw",
   "id": "00c9bd13",
   "metadata": {
    "vscode": {
     "languageId": "raw"
    }
   },
   "source": [
    "conda activate HKA_EKG_Signalverarbeitung"
   ]
  },
  {
   "cell_type": "markdown",
   "id": "98a3f5e4",
   "metadata": {},
   "source": [
    "## Step 3: Install Required Modules\n",
    "To install Python modules, you can run the script below. Be sure to allow the install of the ipynb-kernel within visual studio."
   ]
  },
  {
   "cell_type": "code",
   "execution_count": 1,
   "id": "294b4f0e",
   "metadata": {},
   "outputs": [
    {
     "name": "stdout",
     "output_type": "stream",
     "text": [
      "Lets run a line, visual studio will now ask you to install the ipynb-package\n"
     ]
    }
   ],
   "source": [
    "print(\"Lets run a line, visual studio will now ask you to install the ipynb-package\")"
   ]
  },
  {
   "cell_type": "code",
   "execution_count": 3,
   "id": "38881599",
   "metadata": {},
   "outputs": [
    {
     "name": "stdout",
     "output_type": "stream",
     "text": [
      "Requirement already satisfied: pyyaml in c:\\users\\lukas\\anaconda3\\envs\\hka_ekg_signalverarbeitung\\lib\\site-packages (6.0.2)\n",
      "Requirement already satisfied: numpy in c:\\users\\lukas\\anaconda3\\envs\\hka_ekg_signalverarbeitung\\lib\\site-packages (2.2.6)\n",
      "Requirement already satisfied: pandas in c:\\users\\lukas\\anaconda3\\envs\\hka_ekg_signalverarbeitung\\lib\\site-packages (2.2.3)\n",
      "Requirement already satisfied: numpy>=1.26.0 in c:\\users\\lukas\\anaconda3\\envs\\hka_ekg_signalverarbeitung\\lib\\site-packages (from pandas) (2.2.6)\n",
      "Requirement already satisfied: python-dateutil>=2.8.2 in c:\\users\\lukas\\anaconda3\\envs\\hka_ekg_signalverarbeitung\\lib\\site-packages (from pandas) (2.9.0.post0)\n",
      "Requirement already satisfied: pytz>=2020.1 in c:\\users\\lukas\\anaconda3\\envs\\hka_ekg_signalverarbeitung\\lib\\site-packages (from pandas) (2025.2)\n",
      "Requirement already satisfied: tzdata>=2022.7 in c:\\users\\lukas\\anaconda3\\envs\\hka_ekg_signalverarbeitung\\lib\\site-packages (from pandas) (2025.2)\n",
      "Requirement already satisfied: six>=1.5 in c:\\users\\lukas\\anaconda3\\envs\\hka_ekg_signalverarbeitung\\lib\\site-packages (from python-dateutil>=2.8.2->pandas) (1.17.0)\n",
      "Requirement already satisfied: matplotlib in c:\\users\\lukas\\anaconda3\\envs\\hka_ekg_signalverarbeitung\\lib\\site-packages (3.10.3)\n",
      "Requirement already satisfied: contourpy>=1.0.1 in c:\\users\\lukas\\anaconda3\\envs\\hka_ekg_signalverarbeitung\\lib\\site-packages (from matplotlib) (1.3.2)\n",
      "Requirement already satisfied: cycler>=0.10 in c:\\users\\lukas\\anaconda3\\envs\\hka_ekg_signalverarbeitung\\lib\\site-packages (from matplotlib) (0.12.1)\n",
      "Requirement already satisfied: fonttools>=4.22.0 in c:\\users\\lukas\\anaconda3\\envs\\hka_ekg_signalverarbeitung\\lib\\site-packages (from matplotlib) (4.58.1)\n",
      "Requirement already satisfied: kiwisolver>=1.3.1 in c:\\users\\lukas\\anaconda3\\envs\\hka_ekg_signalverarbeitung\\lib\\site-packages (from matplotlib) (1.4.8)\n",
      "Requirement already satisfied: numpy>=1.23 in c:\\users\\lukas\\anaconda3\\envs\\hka_ekg_signalverarbeitung\\lib\\site-packages (from matplotlib) (2.2.6)\n",
      "Requirement already satisfied: packaging>=20.0 in c:\\users\\lukas\\anaconda3\\envs\\hka_ekg_signalverarbeitung\\lib\\site-packages (from matplotlib) (24.2)\n",
      "Requirement already satisfied: pillow>=8 in c:\\users\\lukas\\anaconda3\\envs\\hka_ekg_signalverarbeitung\\lib\\site-packages (from matplotlib) (11.2.1)\n",
      "Requirement already satisfied: pyparsing>=2.3.1 in c:\\users\\lukas\\anaconda3\\envs\\hka_ekg_signalverarbeitung\\lib\\site-packages (from matplotlib) (3.2.3)\n",
      "Requirement already satisfied: python-dateutil>=2.7 in c:\\users\\lukas\\anaconda3\\envs\\hka_ekg_signalverarbeitung\\lib\\site-packages (from matplotlib) (2.9.0.post0)\n",
      "Requirement already satisfied: six>=1.5 in c:\\users\\lukas\\anaconda3\\envs\\hka_ekg_signalverarbeitung\\lib\\site-packages (from python-dateutil>=2.7->matplotlib) (1.17.0)\n",
      "Requirement already satisfied: torch in c:\\users\\lukas\\anaconda3\\envs\\hka_ekg_signalverarbeitung\\lib\\site-packages (2.7.0+cu128)\n",
      "Requirement already satisfied: filelock in c:\\users\\lukas\\anaconda3\\envs\\hka_ekg_signalverarbeitung\\lib\\site-packages (from torch) (3.18.0)\n",
      "Requirement already satisfied: typing-extensions>=4.10.0 in c:\\users\\lukas\\anaconda3\\envs\\hka_ekg_signalverarbeitung\\lib\\site-packages (from torch) (4.13.2)\n",
      "Requirement already satisfied: sympy>=1.13.3 in c:\\users\\lukas\\anaconda3\\envs\\hka_ekg_signalverarbeitung\\lib\\site-packages (from torch) (1.14.0)\n",
      "Requirement already satisfied: networkx in c:\\users\\lukas\\anaconda3\\envs\\hka_ekg_signalverarbeitung\\lib\\site-packages (from torch) (3.5)\n",
      "Requirement already satisfied: jinja2 in c:\\users\\lukas\\anaconda3\\envs\\hka_ekg_signalverarbeitung\\lib\\site-packages (from torch) (3.1.6)\n",
      "Requirement already satisfied: fsspec in c:\\users\\lukas\\anaconda3\\envs\\hka_ekg_signalverarbeitung\\lib\\site-packages (from torch) (2025.5.1)\n",
      "Requirement already satisfied: setuptools in c:\\users\\lukas\\anaconda3\\envs\\hka_ekg_signalverarbeitung\\lib\\site-packages (from torch) (78.1.1)\n",
      "Requirement already satisfied: mpmath<1.4,>=1.1.0 in c:\\users\\lukas\\anaconda3\\envs\\hka_ekg_signalverarbeitung\\lib\\site-packages (from sympy>=1.13.3->torch) (1.3.0)\n",
      "Requirement already satisfied: MarkupSafe>=2.0 in c:\\users\\lukas\\anaconda3\\envs\\hka_ekg_signalverarbeitung\\lib\\site-packages (from jinja2->torch) (3.0.2)\n",
      "Requirement already satisfied: lightning in c:\\users\\lukas\\anaconda3\\envs\\hka_ekg_signalverarbeitung\\lib\\site-packages (2.5.1.post0)\n",
      "Requirement already satisfied: PyYAML<8.0,>=5.4 in c:\\users\\lukas\\anaconda3\\envs\\hka_ekg_signalverarbeitung\\lib\\site-packages (from lightning) (6.0.2)\n",
      "Requirement already satisfied: fsspec<2026.0,>=2022.5.0 in c:\\users\\lukas\\anaconda3\\envs\\hka_ekg_signalverarbeitung\\lib\\site-packages (from fsspec[http]<2026.0,>=2022.5.0->lightning) (2025.5.1)\n",
      "Requirement already satisfied: lightning-utilities<2.0,>=0.10.0 in c:\\users\\lukas\\anaconda3\\envs\\hka_ekg_signalverarbeitung\\lib\\site-packages (from lightning) (0.14.3)\n",
      "Requirement already satisfied: packaging<25.0,>=20.0 in c:\\users\\lukas\\anaconda3\\envs\\hka_ekg_signalverarbeitung\\lib\\site-packages (from lightning) (24.2)\n",
      "Requirement already satisfied: torch<4.0,>=2.1.0 in c:\\users\\lukas\\anaconda3\\envs\\hka_ekg_signalverarbeitung\\lib\\site-packages (from lightning) (2.7.0+cu128)\n",
      "Requirement already satisfied: torchmetrics<3.0,>=0.7.0 in c:\\users\\lukas\\anaconda3\\envs\\hka_ekg_signalverarbeitung\\lib\\site-packages (from lightning) (1.7.2)\n",
      "Requirement already satisfied: tqdm<6.0,>=4.57.0 in c:\\users\\lukas\\anaconda3\\envs\\hka_ekg_signalverarbeitung\\lib\\site-packages (from lightning) (4.67.1)\n",
      "Requirement already satisfied: typing-extensions<6.0,>=4.4.0 in c:\\users\\lukas\\anaconda3\\envs\\hka_ekg_signalverarbeitung\\lib\\site-packages (from lightning) (4.13.2)\n",
      "Requirement already satisfied: pytorch-lightning in c:\\users\\lukas\\anaconda3\\envs\\hka_ekg_signalverarbeitung\\lib\\site-packages (from lightning) (2.5.1.post0)\n",
      "Requirement already satisfied: aiohttp!=4.0.0a0,!=4.0.0a1 in c:\\users\\lukas\\anaconda3\\envs\\hka_ekg_signalverarbeitung\\lib\\site-packages (from fsspec[http]<2026.0,>=2022.5.0->lightning) (3.12.6)\n",
      "Requirement already satisfied: setuptools in c:\\users\\lukas\\anaconda3\\envs\\hka_ekg_signalverarbeitung\\lib\\site-packages (from lightning-utilities<2.0,>=0.10.0->lightning) (78.1.1)\n",
      "Requirement already satisfied: filelock in c:\\users\\lukas\\anaconda3\\envs\\hka_ekg_signalverarbeitung\\lib\\site-packages (from torch<4.0,>=2.1.0->lightning) (3.18.0)\n",
      "Requirement already satisfied: sympy>=1.13.3 in c:\\users\\lukas\\anaconda3\\envs\\hka_ekg_signalverarbeitung\\lib\\site-packages (from torch<4.0,>=2.1.0->lightning) (1.14.0)\n",
      "Requirement already satisfied: networkx in c:\\users\\lukas\\anaconda3\\envs\\hka_ekg_signalverarbeitung\\lib\\site-packages (from torch<4.0,>=2.1.0->lightning) (3.5)\n",
      "Requirement already satisfied: jinja2 in c:\\users\\lukas\\anaconda3\\envs\\hka_ekg_signalverarbeitung\\lib\\site-packages (from torch<4.0,>=2.1.0->lightning) (3.1.6)\n",
      "Requirement already satisfied: numpy>1.20.0 in c:\\users\\lukas\\anaconda3\\envs\\hka_ekg_signalverarbeitung\\lib\\site-packages (from torchmetrics<3.0,>=0.7.0->lightning) (2.2.6)\n",
      "Requirement already satisfied: colorama in c:\\users\\lukas\\anaconda3\\envs\\hka_ekg_signalverarbeitung\\lib\\site-packages (from tqdm<6.0,>=4.57.0->lightning) (0.4.6)\n",
      "Requirement already satisfied: aiohappyeyeballs>=2.5.0 in c:\\users\\lukas\\anaconda3\\envs\\hka_ekg_signalverarbeitung\\lib\\site-packages (from aiohttp!=4.0.0a0,!=4.0.0a1->fsspec[http]<2026.0,>=2022.5.0->lightning) (2.6.1)\n",
      "Requirement already satisfied: aiosignal>=1.1.2 in c:\\users\\lukas\\anaconda3\\envs\\hka_ekg_signalverarbeitung\\lib\\site-packages (from aiohttp!=4.0.0a0,!=4.0.0a1->fsspec[http]<2026.0,>=2022.5.0->lightning) (1.3.2)\n",
      "Requirement already satisfied: attrs>=17.3.0 in c:\\users\\lukas\\anaconda3\\envs\\hka_ekg_signalverarbeitung\\lib\\site-packages (from aiohttp!=4.0.0a0,!=4.0.0a1->fsspec[http]<2026.0,>=2022.5.0->lightning) (25.3.0)\n",
      "Requirement already satisfied: frozenlist>=1.1.1 in c:\\users\\lukas\\anaconda3\\envs\\hka_ekg_signalverarbeitung\\lib\\site-packages (from aiohttp!=4.0.0a0,!=4.0.0a1->fsspec[http]<2026.0,>=2022.5.0->lightning) (1.6.0)\n",
      "Requirement already satisfied: multidict<7.0,>=4.5 in c:\\users\\lukas\\anaconda3\\envs\\hka_ekg_signalverarbeitung\\lib\\site-packages (from aiohttp!=4.0.0a0,!=4.0.0a1->fsspec[http]<2026.0,>=2022.5.0->lightning) (6.4.4)\n",
      "Requirement already satisfied: propcache>=0.2.0 in c:\\users\\lukas\\anaconda3\\envs\\hka_ekg_signalverarbeitung\\lib\\site-packages (from aiohttp!=4.0.0a0,!=4.0.0a1->fsspec[http]<2026.0,>=2022.5.0->lightning) (0.3.1)\n",
      "Requirement already satisfied: yarl<2.0,>=1.17.0 in c:\\users\\lukas\\anaconda3\\envs\\hka_ekg_signalverarbeitung\\lib\\site-packages (from aiohttp!=4.0.0a0,!=4.0.0a1->fsspec[http]<2026.0,>=2022.5.0->lightning) (1.20.0)\n",
      "Requirement already satisfied: idna>=2.0 in c:\\users\\lukas\\anaconda3\\envs\\hka_ekg_signalverarbeitung\\lib\\site-packages (from yarl<2.0,>=1.17.0->aiohttp!=4.0.0a0,!=4.0.0a1->fsspec[http]<2026.0,>=2022.5.0->lightning) (3.10)\n",
      "Requirement already satisfied: mpmath<1.4,>=1.1.0 in c:\\users\\lukas\\anaconda3\\envs\\hka_ekg_signalverarbeitung\\lib\\site-packages (from sympy>=1.13.3->torch<4.0,>=2.1.0->lightning) (1.3.0)\n",
      "Requirement already satisfied: MarkupSafe>=2.0 in c:\\users\\lukas\\anaconda3\\envs\\hka_ekg_signalverarbeitung\\lib\\site-packages (from jinja2->torch<4.0,>=2.1.0->lightning) (3.0.2)\n",
      "Requirement already satisfied: wandb in c:\\users\\lukas\\anaconda3\\envs\\hka_ekg_signalverarbeitung\\lib\\site-packages (0.19.11)\n",
      "Requirement already satisfied: click!=8.0.0,>=7.1 in c:\\users\\lukas\\anaconda3\\envs\\hka_ekg_signalverarbeitung\\lib\\site-packages (from wandb) (8.2.1)\n",
      "Requirement already satisfied: docker-pycreds>=0.4.0 in c:\\users\\lukas\\anaconda3\\envs\\hka_ekg_signalverarbeitung\\lib\\site-packages (from wandb) (0.4.0)\n",
      "Requirement already satisfied: gitpython!=3.1.29,>=1.0.0 in c:\\users\\lukas\\anaconda3\\envs\\hka_ekg_signalverarbeitung\\lib\\site-packages (from wandb) (3.1.44)\n",
      "Requirement already satisfied: platformdirs in c:\\users\\lukas\\anaconda3\\envs\\hka_ekg_signalverarbeitung\\lib\\site-packages (from wandb) (4.3.8)\n",
      "Requirement already satisfied: protobuf!=4.21.0,!=5.28.0,<7,>=3.19.0 in c:\\users\\lukas\\anaconda3\\envs\\hka_ekg_signalverarbeitung\\lib\\site-packages (from wandb) (6.31.1)\n",
      "Requirement already satisfied: psutil>=5.0.0 in c:\\users\\lukas\\anaconda3\\envs\\hka_ekg_signalverarbeitung\\lib\\site-packages (from wandb) (5.9.0)\n",
      "Requirement already satisfied: pydantic<3 in c:\\users\\lukas\\anaconda3\\envs\\hka_ekg_signalverarbeitung\\lib\\site-packages (from wandb) (2.11.5)\n",
      "Requirement already satisfied: pyyaml in c:\\users\\lukas\\anaconda3\\envs\\hka_ekg_signalverarbeitung\\lib\\site-packages (from wandb) (6.0.2)\n",
      "Requirement already satisfied: requests<3,>=2.0.0 in c:\\users\\lukas\\anaconda3\\envs\\hka_ekg_signalverarbeitung\\lib\\site-packages (from wandb) (2.32.3)\n",
      "Requirement already satisfied: sentry-sdk>=2.0.0 in c:\\users\\lukas\\anaconda3\\envs\\hka_ekg_signalverarbeitung\\lib\\site-packages (from wandb) (2.29.1)\n",
      "Requirement already satisfied: setproctitle in c:\\users\\lukas\\anaconda3\\envs\\hka_ekg_signalverarbeitung\\lib\\site-packages (from wandb) (1.3.6)\n",
      "Requirement already satisfied: setuptools in c:\\users\\lukas\\anaconda3\\envs\\hka_ekg_signalverarbeitung\\lib\\site-packages (from wandb) (78.1.1)\n",
      "Requirement already satisfied: typing-extensions<5,>=4.4 in c:\\users\\lukas\\anaconda3\\envs\\hka_ekg_signalverarbeitung\\lib\\site-packages (from wandb) (4.13.2)\n",
      "Requirement already satisfied: annotated-types>=0.6.0 in c:\\users\\lukas\\anaconda3\\envs\\hka_ekg_signalverarbeitung\\lib\\site-packages (from pydantic<3->wandb) (0.7.0)\n",
      "Requirement already satisfied: pydantic-core==2.33.2 in c:\\users\\lukas\\anaconda3\\envs\\hka_ekg_signalverarbeitung\\lib\\site-packages (from pydantic<3->wandb) (2.33.2)\n",
      "Requirement already satisfied: typing-inspection>=0.4.0 in c:\\users\\lukas\\anaconda3\\envs\\hka_ekg_signalverarbeitung\\lib\\site-packages (from pydantic<3->wandb) (0.4.1)\n",
      "Requirement already satisfied: charset-normalizer<4,>=2 in c:\\users\\lukas\\anaconda3\\envs\\hka_ekg_signalverarbeitung\\lib\\site-packages (from requests<3,>=2.0.0->wandb) (3.4.2)\n",
      "Requirement already satisfied: idna<4,>=2.5 in c:\\users\\lukas\\anaconda3\\envs\\hka_ekg_signalverarbeitung\\lib\\site-packages (from requests<3,>=2.0.0->wandb) (3.10)\n",
      "Requirement already satisfied: urllib3<3,>=1.21.1 in c:\\users\\lukas\\anaconda3\\envs\\hka_ekg_signalverarbeitung\\lib\\site-packages (from requests<3,>=2.0.0->wandb) (2.4.0)\n",
      "Requirement already satisfied: certifi>=2017.4.17 in c:\\users\\lukas\\anaconda3\\envs\\hka_ekg_signalverarbeitung\\lib\\site-packages (from requests<3,>=2.0.0->wandb) (2025.4.26)\n",
      "Requirement already satisfied: colorama in c:\\users\\lukas\\anaconda3\\envs\\hka_ekg_signalverarbeitung\\lib\\site-packages (from click!=8.0.0,>=7.1->wandb) (0.4.6)\n",
      "Requirement already satisfied: six>=1.4.0 in c:\\users\\lukas\\anaconda3\\envs\\hka_ekg_signalverarbeitung\\lib\\site-packages (from docker-pycreds>=0.4.0->wandb) (1.17.0)\n",
      "Requirement already satisfied: gitdb<5,>=4.0.1 in c:\\users\\lukas\\anaconda3\\envs\\hka_ekg_signalverarbeitung\\lib\\site-packages (from gitpython!=3.1.29,>=1.0.0->wandb) (4.0.12)\n",
      "Requirement already satisfied: smmap<6,>=3.0.1 in c:\\users\\lukas\\anaconda3\\envs\\hka_ekg_signalverarbeitung\\lib\\site-packages (from gitdb<5,>=4.0.1->gitpython!=3.1.29,>=1.0.0->wandb) (5.0.2)\n",
      "Requirement already satisfied: scikit-image in c:\\users\\lukas\\anaconda3\\envs\\hka_ekg_signalverarbeitung\\lib\\site-packages (0.25.2)\n",
      "Requirement already satisfied: numpy>=1.24 in c:\\users\\lukas\\anaconda3\\envs\\hka_ekg_signalverarbeitung\\lib\\site-packages (from scikit-image) (2.2.6)\n",
      "Requirement already satisfied: scipy>=1.11.4 in c:\\users\\lukas\\anaconda3\\envs\\hka_ekg_signalverarbeitung\\lib\\site-packages (from scikit-image) (1.15.3)\n",
      "Requirement already satisfied: networkx>=3.0 in c:\\users\\lukas\\anaconda3\\envs\\hka_ekg_signalverarbeitung\\lib\\site-packages (from scikit-image) (3.5)\n",
      "Requirement already satisfied: pillow>=10.1 in c:\\users\\lukas\\anaconda3\\envs\\hka_ekg_signalverarbeitung\\lib\\site-packages (from scikit-image) (11.2.1)\n",
      "Requirement already satisfied: imageio!=2.35.0,>=2.33 in c:\\users\\lukas\\anaconda3\\envs\\hka_ekg_signalverarbeitung\\lib\\site-packages (from scikit-image) (2.37.0)\n",
      "Requirement already satisfied: tifffile>=2022.8.12 in c:\\users\\lukas\\anaconda3\\envs\\hka_ekg_signalverarbeitung\\lib\\site-packages (from scikit-image) (2025.6.1)\n",
      "Requirement already satisfied: packaging>=21 in c:\\users\\lukas\\anaconda3\\envs\\hka_ekg_signalverarbeitung\\lib\\site-packages (from scikit-image) (24.2)\n",
      "Requirement already satisfied: lazy-loader>=0.4 in c:\\users\\lukas\\anaconda3\\envs\\hka_ekg_signalverarbeitung\\lib\\site-packages (from scikit-image) (0.4)\n",
      "Requirement already satisfied: scikit-learn in c:\\users\\lukas\\anaconda3\\envs\\hka_ekg_signalverarbeitung\\lib\\site-packages (1.6.1)\n",
      "Requirement already satisfied: numpy>=1.19.5 in c:\\users\\lukas\\anaconda3\\envs\\hka_ekg_signalverarbeitung\\lib\\site-packages (from scikit-learn) (2.2.6)\n",
      "Requirement already satisfied: scipy>=1.6.0 in c:\\users\\lukas\\anaconda3\\envs\\hka_ekg_signalverarbeitung\\lib\\site-packages (from scikit-learn) (1.15.3)\n",
      "Requirement already satisfied: joblib>=1.2.0 in c:\\users\\lukas\\anaconda3\\envs\\hka_ekg_signalverarbeitung\\lib\\site-packages (from scikit-learn) (1.5.1)\n",
      "Requirement already satisfied: threadpoolctl>=3.1.0 in c:\\users\\lukas\\anaconda3\\envs\\hka_ekg_signalverarbeitung\\lib\\site-packages (from scikit-learn) (3.6.0)\n",
      "Requirement already satisfied: torchvision in c:\\users\\lukas\\anaconda3\\envs\\hka_ekg_signalverarbeitung\\lib\\site-packages (0.22.0)\n",
      "Requirement already satisfied: numpy in c:\\users\\lukas\\anaconda3\\envs\\hka_ekg_signalverarbeitung\\lib\\site-packages (from torchvision) (2.2.6)\n",
      "Requirement already satisfied: torch==2.7.0 in c:\\users\\lukas\\anaconda3\\envs\\hka_ekg_signalverarbeitung\\lib\\site-packages (from torchvision) (2.7.0+cu128)\n",
      "Requirement already satisfied: pillow!=8.3.*,>=5.3.0 in c:\\users\\lukas\\anaconda3\\envs\\hka_ekg_signalverarbeitung\\lib\\site-packages (from torchvision) (11.2.1)\n",
      "Requirement already satisfied: filelock in c:\\users\\lukas\\anaconda3\\envs\\hka_ekg_signalverarbeitung\\lib\\site-packages (from torch==2.7.0->torchvision) (3.18.0)\n",
      "Requirement already satisfied: typing-extensions>=4.10.0 in c:\\users\\lukas\\anaconda3\\envs\\hka_ekg_signalverarbeitung\\lib\\site-packages (from torch==2.7.0->torchvision) (4.13.2)\n",
      "Requirement already satisfied: sympy>=1.13.3 in c:\\users\\lukas\\anaconda3\\envs\\hka_ekg_signalverarbeitung\\lib\\site-packages (from torch==2.7.0->torchvision) (1.14.0)\n",
      "Requirement already satisfied: networkx in c:\\users\\lukas\\anaconda3\\envs\\hka_ekg_signalverarbeitung\\lib\\site-packages (from torch==2.7.0->torchvision) (3.5)\n",
      "Requirement already satisfied: jinja2 in c:\\users\\lukas\\anaconda3\\envs\\hka_ekg_signalverarbeitung\\lib\\site-packages (from torch==2.7.0->torchvision) (3.1.6)\n",
      "Requirement already satisfied: fsspec in c:\\users\\lukas\\anaconda3\\envs\\hka_ekg_signalverarbeitung\\lib\\site-packages (from torch==2.7.0->torchvision) (2025.5.1)\n",
      "Requirement already satisfied: setuptools in c:\\users\\lukas\\anaconda3\\envs\\hka_ekg_signalverarbeitung\\lib\\site-packages (from torch==2.7.0->torchvision) (78.1.1)\n",
      "Requirement already satisfied: mpmath<1.4,>=1.1.0 in c:\\users\\lukas\\anaconda3\\envs\\hka_ekg_signalverarbeitung\\lib\\site-packages (from sympy>=1.13.3->torch==2.7.0->torchvision) (1.3.0)\n",
      "Requirement already satisfied: MarkupSafe>=2.0 in c:\\users\\lukas\\anaconda3\\envs\\hka_ekg_signalverarbeitung\\lib\\site-packages (from jinja2->torch==2.7.0->torchvision) (3.0.2)\n",
      "Requirement already satisfied: timm in c:\\users\\lukas\\anaconda3\\envs\\hka_ekg_signalverarbeitung\\lib\\site-packages (1.0.15)\n",
      "Requirement already satisfied: torch in c:\\users\\lukas\\anaconda3\\envs\\hka_ekg_signalverarbeitung\\lib\\site-packages (from timm) (2.7.0+cu128)\n",
      "Requirement already satisfied: torchvision in c:\\users\\lukas\\anaconda3\\envs\\hka_ekg_signalverarbeitung\\lib\\site-packages (from timm) (0.22.0)\n",
      "Requirement already satisfied: pyyaml in c:\\users\\lukas\\anaconda3\\envs\\hka_ekg_signalverarbeitung\\lib\\site-packages (from timm) (6.0.2)\n",
      "Requirement already satisfied: huggingface_hub in c:\\users\\lukas\\anaconda3\\envs\\hka_ekg_signalverarbeitung\\lib\\site-packages (from timm) (0.32.3)\n",
      "Requirement already satisfied: safetensors in c:\\users\\lukas\\anaconda3\\envs\\hka_ekg_signalverarbeitung\\lib\\site-packages (from timm) (0.5.3)\n",
      "Requirement already satisfied: filelock in c:\\users\\lukas\\anaconda3\\envs\\hka_ekg_signalverarbeitung\\lib\\site-packages (from huggingface_hub->timm) (3.18.0)\n",
      "Requirement already satisfied: fsspec>=2023.5.0 in c:\\users\\lukas\\anaconda3\\envs\\hka_ekg_signalverarbeitung\\lib\\site-packages (from huggingface_hub->timm) (2025.5.1)\n",
      "Requirement already satisfied: packaging>=20.9 in c:\\users\\lukas\\anaconda3\\envs\\hka_ekg_signalverarbeitung\\lib\\site-packages (from huggingface_hub->timm) (24.2)\n",
      "Requirement already satisfied: requests in c:\\users\\lukas\\anaconda3\\envs\\hka_ekg_signalverarbeitung\\lib\\site-packages (from huggingface_hub->timm) (2.32.3)\n",
      "Requirement already satisfied: tqdm>=4.42.1 in c:\\users\\lukas\\anaconda3\\envs\\hka_ekg_signalverarbeitung\\lib\\site-packages (from huggingface_hub->timm) (4.67.1)\n",
      "Requirement already satisfied: typing-extensions>=3.7.4.3 in c:\\users\\lukas\\anaconda3\\envs\\hka_ekg_signalverarbeitung\\lib\\site-packages (from huggingface_hub->timm) (4.13.2)\n",
      "Requirement already satisfied: colorama in c:\\users\\lukas\\anaconda3\\envs\\hka_ekg_signalverarbeitung\\lib\\site-packages (from tqdm>=4.42.1->huggingface_hub->timm) (0.4.6)\n",
      "Requirement already satisfied: charset-normalizer<4,>=2 in c:\\users\\lukas\\anaconda3\\envs\\hka_ekg_signalverarbeitung\\lib\\site-packages (from requests->huggingface_hub->timm) (3.4.2)\n",
      "Requirement already satisfied: idna<4,>=2.5 in c:\\users\\lukas\\anaconda3\\envs\\hka_ekg_signalverarbeitung\\lib\\site-packages (from requests->huggingface_hub->timm) (3.10)\n",
      "Requirement already satisfied: urllib3<3,>=1.21.1 in c:\\users\\lukas\\anaconda3\\envs\\hka_ekg_signalverarbeitung\\lib\\site-packages (from requests->huggingface_hub->timm) (2.4.0)\n",
      "Requirement already satisfied: certifi>=2017.4.17 in c:\\users\\lukas\\anaconda3\\envs\\hka_ekg_signalverarbeitung\\lib\\site-packages (from requests->huggingface_hub->timm) (2025.4.26)\n",
      "Requirement already satisfied: sympy>=1.13.3 in c:\\users\\lukas\\anaconda3\\envs\\hka_ekg_signalverarbeitung\\lib\\site-packages (from torch->timm) (1.14.0)\n",
      "Requirement already satisfied: networkx in c:\\users\\lukas\\anaconda3\\envs\\hka_ekg_signalverarbeitung\\lib\\site-packages (from torch->timm) (3.5)\n",
      "Requirement already satisfied: jinja2 in c:\\users\\lukas\\anaconda3\\envs\\hka_ekg_signalverarbeitung\\lib\\site-packages (from torch->timm) (3.1.6)\n",
      "Requirement already satisfied: setuptools in c:\\users\\lukas\\anaconda3\\envs\\hka_ekg_signalverarbeitung\\lib\\site-packages (from torch->timm) (78.1.1)\n",
      "Requirement already satisfied: mpmath<1.4,>=1.1.0 in c:\\users\\lukas\\anaconda3\\envs\\hka_ekg_signalverarbeitung\\lib\\site-packages (from sympy>=1.13.3->torch->timm) (1.3.0)\n",
      "Requirement already satisfied: MarkupSafe>=2.0 in c:\\users\\lukas\\anaconda3\\envs\\hka_ekg_signalverarbeitung\\lib\\site-packages (from jinja2->torch->timm) (3.0.2)\n",
      "Requirement already satisfied: numpy in c:\\users\\lukas\\anaconda3\\envs\\hka_ekg_signalverarbeitung\\lib\\site-packages (from torchvision->timm) (2.2.6)\n",
      "Requirement already satisfied: pillow!=8.3.*,>=5.3.0 in c:\\users\\lukas\\anaconda3\\envs\\hka_ekg_signalverarbeitung\\lib\\site-packages (from torchvision->timm) (11.2.1)\n",
      "Requirement already satisfied: torchinfo in c:\\users\\lukas\\anaconda3\\envs\\hka_ekg_signalverarbeitung\\lib\\site-packages (1.8.0)\n",
      "Requirement already satisfied: optuna in c:\\users\\lukas\\anaconda3\\envs\\hka_ekg_signalverarbeitung\\lib\\site-packages (4.3.0)\n",
      "Requirement already satisfied: alembic>=1.5.0 in c:\\users\\lukas\\anaconda3\\envs\\hka_ekg_signalverarbeitung\\lib\\site-packages (from optuna) (1.16.1)\n",
      "Requirement already satisfied: colorlog in c:\\users\\lukas\\anaconda3\\envs\\hka_ekg_signalverarbeitung\\lib\\site-packages (from optuna) (6.9.0)\n",
      "Requirement already satisfied: numpy in c:\\users\\lukas\\anaconda3\\envs\\hka_ekg_signalverarbeitung\\lib\\site-packages (from optuna) (2.2.6)\n",
      "Requirement already satisfied: packaging>=20.0 in c:\\users\\lukas\\anaconda3\\envs\\hka_ekg_signalverarbeitung\\lib\\site-packages (from optuna) (24.2)\n",
      "Requirement already satisfied: sqlalchemy>=1.4.2 in c:\\users\\lukas\\anaconda3\\envs\\hka_ekg_signalverarbeitung\\lib\\site-packages (from optuna) (2.0.41)\n",
      "Requirement already satisfied: tqdm in c:\\users\\lukas\\anaconda3\\envs\\hka_ekg_signalverarbeitung\\lib\\site-packages (from optuna) (4.67.1)\n",
      "Requirement already satisfied: PyYAML in c:\\users\\lukas\\anaconda3\\envs\\hka_ekg_signalverarbeitung\\lib\\site-packages (from optuna) (6.0.2)\n",
      "Requirement already satisfied: Mako in c:\\users\\lukas\\anaconda3\\envs\\hka_ekg_signalverarbeitung\\lib\\site-packages (from alembic>=1.5.0->optuna) (1.3.10)\n",
      "Requirement already satisfied: typing-extensions>=4.12 in c:\\users\\lukas\\anaconda3\\envs\\hka_ekg_signalverarbeitung\\lib\\site-packages (from alembic>=1.5.0->optuna) (4.13.2)\n",
      "Requirement already satisfied: greenlet>=1 in c:\\users\\lukas\\anaconda3\\envs\\hka_ekg_signalverarbeitung\\lib\\site-packages (from sqlalchemy>=1.4.2->optuna) (3.2.2)\n",
      "Requirement already satisfied: colorama in c:\\users\\lukas\\anaconda3\\envs\\hka_ekg_signalverarbeitung\\lib\\site-packages (from colorlog->optuna) (0.4.6)\n",
      "Requirement already satisfied: MarkupSafe>=0.9.2 in c:\\users\\lukas\\anaconda3\\envs\\hka_ekg_signalverarbeitung\\lib\\site-packages (from Mako->alembic>=1.5.0->optuna) (3.0.2)\n",
      "Requirement already satisfied: plotly in c:\\users\\lukas\\anaconda3\\envs\\hka_ekg_signalverarbeitung\\lib\\site-packages (6.1.2)\n",
      "Requirement already satisfied: narwhals>=1.15.1 in c:\\users\\lukas\\anaconda3\\envs\\hka_ekg_signalverarbeitung\\lib\\site-packages (from plotly) (1.41.0)\n",
      "Requirement already satisfied: packaging in c:\\users\\lukas\\anaconda3\\envs\\hka_ekg_signalverarbeitung\\lib\\site-packages (from plotly) (24.2)\n"
     ]
    }
   ],
   "source": [
    "# Now run this code block on the kernel you just created\n",
    "# Automatic script to install all required modules using Jupyter's built-in capabilities\n",
    "import sys\n",
    "\n",
    "required_modules = [\n",
    "    \"pyyaml\",\n",
    "    \"numpy\",\n",
    "    \"pandas\",\n",
    "    \"matplotlib\",\n",
    "    \"torch\",\n",
    "    \"lightning\",\n",
    "    \"wandb\",\n",
    "    \"scikit-image\",\n",
    "    \"scikit-learn\",\n",
    "    \"torchvision\",\n",
    "    \"timm\",\n",
    "    \"torchinfo\",\n",
    "    \"optuna\",\n",
    "    \"plotly\"\n",
    "]\n",
    "\n",
    "for module in required_modules:\n",
    "    !{sys.executable} -m pip install {module}"
   ]
  },
  {
   "cell_type": "markdown",
   "id": "aa30ca16",
   "metadata": {},
   "source": [
    "## Step 4: Verify Installation\n",
    "To verify that all required modules are installed we run the following python code below:\n",
    "```python\n",
    "import <module_name>\n",
    "print(<module_name>.__version__)\n",
    "```"
   ]
  },
  {
   "cell_type": "code",
   "execution_count": 4,
   "id": "1319432d",
   "metadata": {},
   "outputs": [
    {
     "name": "stderr",
     "output_type": "stream",
     "text": [
      "c:\\Users\\lukas\\anaconda3\\envs\\HKA_EKG_Signalverarbeitung\\Lib\\site-packages\\tqdm\\auto.py:21: TqdmWarning: IProgress not found. Please update jupyter and ipywidgets. See https://ipywidgets.readthedocs.io/en/stable/user_install.html\n",
      "  from .autonotebook import tqdm as notebook_tqdm\n"
     ]
    },
    {
     "name": "stdout",
     "output_type": "stream",
     "text": [
      "All imports worked successfully!\n"
     ]
    }
   ],
   "source": [
    "import os\n",
    "import math\n",
    "import time\n",
    "import shutil\n",
    "import yaml\n",
    "\n",
    "import numpy as np\n",
    "import pandas as pd\n",
    "import matplotlib.pyplot as plt\n",
    "\n",
    "import torch\n",
    "from torch import nn\n",
    "from torch.utils.data import DataLoader\n",
    "import torchinfo\n",
    "import torchvision\n",
    "import timm\n",
    "\n",
    "import optuna\n",
    "\n",
    "import wandb\n",
    "\n",
    "from skimage import io, transform\n",
    "\n",
    "import pytorch_lightning as pl\n",
    "from pytorch_lightning import Trainer\n",
    "from pytorch_lightning.loggers import WandbLogger\n",
    "from pytorch_lightning.callbacks.early_stopping import EarlyStopping\n",
    "from pytorch_lightning.utilities.model_summary import ModelSummary\n",
    "\n",
    "# Check if all imports worked\n",
    "modules = [\n",
    "    \"os\", \"math\", \"time\", \"shutil\", \"yaml\",\n",
    "    \"numpy\", \"pandas\", \"matplotlib.pyplot\",\n",
    "    \"torch\", \"pytorch_lightning\", \"wandb\", \n",
    "    \"skimage\", \"torchvision\", \"timm\", \"torchinfo\", \"sklearn\", \"optuna\", \"plotly\"\n",
    "]\n",
    "\n",
    "failed_imports = []\n",
    "for module in modules:\n",
    "    try:\n",
    "        exec(f\"import {module}\")\n",
    "    except ImportError as e:\n",
    "        failed_imports.append((module, str(e)))\n",
    "\n",
    "if not failed_imports:\n",
    "    print(\"All imports worked successfully!\")\n",
    "else:\n",
    "    print(\"The following imports failed:\")\n",
    "    for module, error in failed_imports:\n",
    "        print(f\"{module}: {error}\")"
   ]
  },
  {
   "cell_type": "markdown",
   "id": "8b6fd680",
   "metadata": {},
   "source": [
    "## Step 5: Running PyTorch with CUDA\n",
    "\n",
    "To enable PyTorch to utilize CUDA (GPU acceleration), follow the official installation instructions provided here: [https://pytorch.org/get-started/locally/](https://pytorch.org/get-started/locally/)\n",
    "\n",
    "Check if PyTorch is using CUDA running the following code afterwards (restart the kernel before running the cell):"
   ]
  },
  {
   "cell_type": "code",
   "execution_count": 1,
   "id": "0572781b",
   "metadata": {},
   "outputs": [
    {
     "name": "stdout",
     "output_type": "stream",
     "text": [
      "Torch Version:  2.7.0+cu128\n",
      "Using device:  cuda\n",
      "Cuda Version:  12.8\n",
      "NVIDIA GeForce RTX 5060 Ti\n",
      "Memory Usage:\n",
      "Allocated: 0.0 GB\n",
      "Cached:    0.0 GB\n"
     ]
    }
   ],
   "source": [
    "import torch\n",
    "device = torch.device('cuda' if torch.cuda.is_available() else 'cpu')\n",
    "print('Torch Version: ', torch.__version__)\n",
    "print('Using device: ', device)\n",
    "if device.type == 'cuda':\n",
    "    print('Cuda Version: ', torch.version.cuda)\n",
    "    print(torch.cuda.get_device_name(0))\n",
    "    print('Memory Usage:')\n",
    "    print('Allocated:', round(torch.cuda.memory_allocated(0)/1024**3,1), 'GB')\n",
    "    print('Cached:   ', round(torch.cuda.memory_reserved(0)/1024**3,1), 'GB')\n",
    "    torch.set_float32_matmul_precision('high')"
   ]
  },
  {
   "cell_type": "markdown",
   "id": "dc98bf97",
   "metadata": {},
   "source": [
    "## Step 6: Configure Weights & Biases (wandb)\n",
    "\n",
    "To use wandb for experiment tracking, you need to log in and configure your API key:\n",
    "\n",
    "1. First, create a free account at [https://wandb.ai/](https://wandb.ai/)\n",
    "2. Run the following command to log in and enter your API key:\n",
    "3. When prompted, enter your API key which you can find in your wandb account settings"
   ]
  },
  {
   "cell_type": "code",
   "execution_count": 5,
   "id": "4958de65",
   "metadata": {},
   "outputs": [
    {
     "name": "stderr",
     "output_type": "stream",
     "text": [
      "\u001b[34m\u001b[1mwandb\u001b[0m: Currently logged in as: \u001b[33mlukas-pelz\u001b[0m (\u001b[33mHKA-EKG-Signalverarbeitung\u001b[0m) to \u001b[32mhttps://api.wandb.ai\u001b[0m. Use \u001b[1m`wandb login --relogin`\u001b[0m to force relogin\n"
     ]
    },
    {
     "data": {
      "text/plain": [
       "True"
      ]
     },
     "execution_count": 5,
     "metadata": {},
     "output_type": "execute_result"
    }
   ],
   "source": [
    "wandb.login()"
   ]
  },
  {
   "cell_type": "markdown",
   "id": "b51e9cbd",
   "metadata": {},
   "source": [
    "After configuration, you can verify the setup by running a simple test:\n"
   ]
  },
  {
   "cell_type": "code",
   "execution_count": 6,
   "id": "e2fc3912",
   "metadata": {},
   "outputs": [
    {
     "data": {
      "text/html": [
       "Waiting for wandb.init()..."
      ],
      "text/plain": [
       "<IPython.core.display.HTML object>"
      ]
     },
     "metadata": {},
     "output_type": "display_data"
    },
    {
     "data": {
      "text/html": [
       "Tracking run with wandb version 0.19.11"
      ],
      "text/plain": [
       "<IPython.core.display.HTML object>"
      ]
     },
     "metadata": {},
     "output_type": "display_data"
    },
    {
     "data": {
      "text/html": [
       "Run data is saved locally in <code>c:\\Users\\lukas\\Documents\\HKA_DEV\\HKA_EKG_Signalverarbeitung\\wandb\\run-20250602_110201-1kl5hr97</code>"
      ],
      "text/plain": [
       "<IPython.core.display.HTML object>"
      ]
     },
     "metadata": {},
     "output_type": "display_data"
    },
    {
     "data": {
      "text/html": [
       "Syncing run <strong><a href='https://wandb.ai/HKA-EKG-Signalverarbeitung/test-project/runs/1kl5hr97' target=\"_blank\">volcanic-glade-1</a></strong> to <a href='https://wandb.ai/HKA-EKG-Signalverarbeitung/test-project' target=\"_blank\">Weights & Biases</a> (<a href='https://wandb.me/developer-guide' target=\"_blank\">docs</a>)<br>"
      ],
      "text/plain": [
       "<IPython.core.display.HTML object>"
      ]
     },
     "metadata": {},
     "output_type": "display_data"
    },
    {
     "data": {
      "text/html": [
       " View project at <a href='https://wandb.ai/HKA-EKG-Signalverarbeitung/test-project' target=\"_blank\">https://wandb.ai/HKA-EKG-Signalverarbeitung/test-project</a>"
      ],
      "text/plain": [
       "<IPython.core.display.HTML object>"
      ]
     },
     "metadata": {},
     "output_type": "display_data"
    },
    {
     "data": {
      "text/html": [
       " View run at <a href='https://wandb.ai/HKA-EKG-Signalverarbeitung/test-project/runs/1kl5hr97' target=\"_blank\">https://wandb.ai/HKA-EKG-Signalverarbeitung/test-project/runs/1kl5hr97</a>"
      ],
      "text/plain": [
       "<IPython.core.display.HTML object>"
      ]
     },
     "metadata": {},
     "output_type": "display_data"
    },
    {
     "name": "stderr",
     "output_type": "stream",
     "text": [
      "\u001b[34m\u001b[1mwandb\u001b[0m: \u001b[32m\u001b[41mERROR\u001b[0m The nbformat package was not found. It is required to save notebook history.\n"
     ]
    },
    {
     "data": {
      "text/html": [],
      "text/plain": [
       "<IPython.core.display.HTML object>"
      ]
     },
     "metadata": {},
     "output_type": "display_data"
    },
    {
     "data": {
      "text/html": [
       "<br>    <style><br>        .wandb-row {<br>            display: flex;<br>            flex-direction: row;<br>            flex-wrap: wrap;<br>            justify-content: flex-start;<br>            width: 100%;<br>        }<br>        .wandb-col {<br>            display: flex;<br>            flex-direction: column;<br>            flex-basis: 100%;<br>            flex: 1;<br>            padding: 10px;<br>        }<br>    </style><br><div class=\"wandb-row\"><div class=\"wandb-col\"><h3>Run history:</h3><br/><table class=\"wandb\"><tr><td>test_metric</td><td>▁</td></tr></table><br/></div><div class=\"wandb-col\"><h3>Run summary:</h3><br/><table class=\"wandb\"><tr><td>test_metric</td><td>1</td></tr></table><br/></div></div>"
      ],
      "text/plain": [
       "<IPython.core.display.HTML object>"
      ]
     },
     "metadata": {},
     "output_type": "display_data"
    },
    {
     "data": {
      "text/html": [
       " View run <strong style=\"color:#cdcd00\">volcanic-glade-1</strong> at: <a href='https://wandb.ai/HKA-EKG-Signalverarbeitung/test-project/runs/1kl5hr97' target=\"_blank\">https://wandb.ai/HKA-EKG-Signalverarbeitung/test-project/runs/1kl5hr97</a><br> View project at: <a href='https://wandb.ai/HKA-EKG-Signalverarbeitung/test-project' target=\"_blank\">https://wandb.ai/HKA-EKG-Signalverarbeitung/test-project</a><br>Synced 5 W&B file(s), 0 media file(s), 0 artifact file(s) and 0 other file(s)"
      ],
      "text/plain": [
       "<IPython.core.display.HTML object>"
      ]
     },
     "metadata": {},
     "output_type": "display_data"
    },
    {
     "data": {
      "text/html": [
       "Find logs at: <code>.\\wandb\\run-20250602_110201-1kl5hr97\\logs</code>"
      ],
      "text/plain": [
       "<IPython.core.display.HTML object>"
      ]
     },
     "metadata": {},
     "output_type": "display_data"
    }
   ],
   "source": [
    "wandb.init(project=\"test-project\", mode=\"online\")\n",
    "wandb.log({\"test_metric\": 1.0})\n",
    "wandb.finish()"
   ]
  }
 ],
 "metadata": {
  "kernelspec": {
   "display_name": "HKA_EKG_Signalverarbeitung",
   "language": "python",
   "name": "python3"
  },
  "language_info": {
   "codemirror_mode": {
    "name": "ipython",
    "version": 3
   },
   "file_extension": ".py",
   "mimetype": "text/x-python",
   "name": "python",
   "nbconvert_exporter": "python",
   "pygments_lexer": "ipython3",
   "version": "3.12.3"
  }
 },
 "nbformat": 4,
 "nbformat_minor": 5
}
