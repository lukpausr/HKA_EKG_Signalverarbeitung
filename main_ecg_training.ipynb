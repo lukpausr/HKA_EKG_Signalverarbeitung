{
 "cells": [
  {
   "cell_type": "markdown",
   "id": "b3fa61c3",
   "metadata": {},
   "source": [
    "## Imports and Configuration"
   ]
  },
  {
   "cell_type": "code",
   "execution_count": 1,
   "id": "fcdc5938",
   "metadata": {},
   "outputs": [],
   "source": [
    "import os\n",
    "import datetime\n",
    "import wandb\n",
    "\n",
    "import torch\n",
    "\n",
    "import pytorch_lightning as pl\n",
    "from pytorch_lightning import Trainer\n",
    "from pytorch_lightning.loggers import WandbLogger\n",
    "from pytorch_lightning.callbacks.early_stopping import EarlyStopping\n",
    "from pytorch_lightning.utilities.model_summary import ModelSummary\n",
    "\n",
    "from config.load_configuration import load_configuration\n",
    "from data.datamodule import ECG_DataModule\n",
    "from model.model import UNET_1D"
   ]
  },
  {
   "cell_type": "markdown",
   "id": "31d352ac",
   "metadata": {},
   "source": [
    "#### Loading configuration\n",
    "\n",
    "This notebook loads configuration settings using the `load_configuration` function from the `config.load_configuration` module. The configuration is stored in the `config` variable."
   ]
  },
  {
   "cell_type": "code",
   "execution_count": 2,
   "id": "a036c93d",
   "metadata": {},
   "outputs": [
    {
     "name": "stdout",
     "output_type": "stream",
     "text": [
      "PC Name: DESKTOP-LUKAS\n",
      "Loaded configuration from config/config_lukas.yaml\n"
     ]
    }
   ],
   "source": [
    "config = load_configuration()"
   ]
  },
  {
   "cell_type": "markdown",
   "id": "d4ef236e",
   "metadata": {},
   "source": [
    "#### Logging in to Weights & Biases (wandb)\n",
    "\n",
    "Before starting any experiment tracking, ensure you are logged in to your Weights & Biases (wandb) account. This enables automatic logging of metrics, model checkpoints, and experiment configurations. The following code logs you in to wandb:\n",
    "\n",
    "```python\n",
    "wandb.login()\n",
    "```\n",
    "If you are running this for the first time, you may be prompted to enter your API key."
   ]
  },
  {
   "cell_type": "code",
   "execution_count": 3,
   "id": "375929d7",
   "metadata": {},
   "outputs": [
    {
     "name": "stderr",
     "output_type": "stream",
     "text": [
      "\u001b[34m\u001b[1mwandb\u001b[0m: Currently logged in as: \u001b[33mlukas-pelz\u001b[0m (\u001b[33mHKA-EKG-Signalverarbeitung\u001b[0m) to \u001b[32mhttps://api.wandb.ai\u001b[0m. Use \u001b[1m`wandb login --relogin`\u001b[0m to force relogin\n"
     ]
    },
    {
     "data": {
      "text/plain": [
       "True"
      ]
     },
     "execution_count": 3,
     "metadata": {},
     "output_type": "execute_result"
    }
   ],
   "source": [
    "wandb.login()"
   ]
  },
  {
   "cell_type": "markdown",
   "id": "f60a2bf1",
   "metadata": {},
   "source": [
    "#### Setting Seeds for Reproducibility\n",
    "\n",
    "To ensure comparable and reproducible results, we set the random seed using the `seed_everything` function from PyTorch Lightning. This helps in achieving consistent behavior across multiple runs of the notebook."
   ]
  },
  {
   "cell_type": "code",
   "execution_count": 4,
   "id": "08e672fa",
   "metadata": {},
   "outputs": [
    {
     "name": "stderr",
     "output_type": "stream",
     "text": [
      "Seed set to 42\n"
     ]
    }
   ],
   "source": [
    "pl.seed_everything(config['seed'])\n",
    "os.environ[\"TF_ENABLE_ONEDNN_OPTS\"] = \"0\"   # disable oneDNN optimizations for reproducibility\n",
    "os.environ[\"CUDA_LAUNCH_BLOCKING\"] = \"1\""
   ]
  },
  {
   "cell_type": "markdown",
   "id": "d53e7fa5",
   "metadata": {},
   "source": [
    "#### Checking for GPU Devices\n",
    "\n",
    "In this step, we check for the availability of GPU devices and print the device currently being used by PyTorch. This ensures that the computations are performed on the most efficient hardware available."
   ]
  },
  {
   "cell_type": "code",
   "execution_count": 5,
   "id": "1f0450c2",
   "metadata": {},
   "outputs": [
    {
     "name": "stdout",
     "output_type": "stream",
     "text": [
      "========================================\n",
      "Torch Version      : 2.7.0+cu128\n",
      "Selected Device    : cuda\n",
      "CUDA Version       : 12.8\n",
      "Device Name        : NVIDIA GeForce RTX 5060 Ti\n",
      "Memory Usage       : Allocated: 0.00 GB | Reserved: 0.00 GB\n",
      "========================================\n"
     ]
    }
   ],
   "source": [
    "device = torch.device('cuda' if torch.cuda.is_available() else 'cpu')\n",
    "print(\"=\"*40)\n",
    "print(f\"Torch Version      : {torch.__version__}\")\n",
    "print(f\"Selected Device    : {device}\")\n",
    "if device.type == 'cuda':\n",
    "    print(f\"CUDA Version       : {torch.version.cuda}\")\n",
    "    print(f\"Device Name        : {torch.cuda.get_device_name(0)}\")\n",
    "    allocated = torch.cuda.memory_allocated(0) / 1024**3\n",
    "    reserved = torch.cuda.memory_reserved(0) / 1024**3\n",
    "    print(f\"Memory Usage       : Allocated: {allocated:.2f} GB | Reserved: {reserved:.2f} GB\")\n",
    "    torch.set_float32_matmul_precision('high')\n",
    "else:\n",
    "    print(\"CUDA not available, using CPU.\")\n",
    "print(\"=\"*40)"
   ]
  },
  {
   "cell_type": "markdown",
   "id": "a40cb2e8",
   "metadata": {},
   "source": [
    "#### Initializing the Data Module\n",
    "\n",
    "The `ECG_DataModule` is initialized using the data path, batch size, and feature list from the configuration. This prepares the data for training and validation."
   ]
  },
  {
   "cell_type": "code",
   "execution_count": 6,
   "id": "3a53c3c5",
   "metadata": {},
   "outputs": [],
   "source": [
    "dm = ECG_DataModule(\n",
    "    data_dir=config['path_to_data'],\n",
    "    batch_size=config['batch_size'],\n",
    "    num_workers=config['num_workers'],\n",
    "    persistent_workers=config['persistent_workers'],\n",
    "    feature_list=config['feature_list']\n",
    ")"
   ]
  },
  {
   "cell_type": "markdown",
   "id": "0693029f",
   "metadata": {},
   "source": [
    "#### Creating the Model\n",
    "\n",
    "In this step, we will define the model architecture and print its summary using the `ModelSummary` utility from PyTorch Lightning. This provides an overview of the model's layers, parameters, and structure."
   ]
  },
  {
   "cell_type": "code",
   "execution_count": 7,
   "id": "038f7c40",
   "metadata": {},
   "outputs": [
    {
     "name": "stdout",
     "output_type": "stream",
     "text": [
      "    | Name                                            | Type                  | Params | Mode  | In sizes      | Out sizes    \n",
      "------------------------------------------------------------------------------------------------------------------------------------\n",
      "0   | criterion                                       | BCEWithLogitsLoss     | 0      | train | ?             | ?            \n",
      "1   | train_jaccard                                   | BinaryJaccardIndex    | 0      | train | ?             | ?            \n",
      "2   | val_jaccard                                     | BinaryJaccardIndex    | 0      | train | ?             | ?            \n",
      "3   | test_jaccard                                    | BinaryJaccardIndex    | 0      | train | ?             | ?            \n",
      "4   | multi_tolerance_metrics                         | MultiToleranceWrapper | 0      | train | ?             | ?            \n",
      "5   | multi_tolerance_metrics.metrics                 | ModuleDict            | 0      | train | ?             | ?            \n",
      "6   | multi_tolerance_metrics.metrics.tolerance_5ms   | CustomMetrics         | 0      | train | ?             | ?            \n",
      "7   | multi_tolerance_metrics.metrics.tolerance_10ms  | CustomMetrics         | 0      | train | ?             | ?            \n",
      "8   | multi_tolerance_metrics.metrics.tolerance_40ms  | CustomMetrics         | 0      | train | ?             | ?            \n",
      "9   | multi_tolerance_metrics.metrics.tolerance_150ms | CustomMetrics         | 0      | train | ?             | ?            \n",
      "10  | AvgPool1D1                                      | AvgPool1d             | 0      | train | [1, 64, 512]  | [1, 64, 256] \n",
      "11  | AvgPool1D2                                      | AvgPool1d             | 0      | train | [1, 128, 256] | [1, 128, 128]\n",
      "12  | AvgPool1D3                                      | AvgPool1d             | 0      | train | [1, 256, 128] | [1, 256, 64] \n",
      "13  | AvgPool1D4                                      | AvgPool1d             | 0      | train | [1, 512, 64]  | [1, 512, 32] \n",
      "14  | layer1                                          | Sequential            | 21.2 K | train | [1, 1, 512]   | [1, 64, 512] \n",
      "15  | layer1.0                                        | conbr_block           | 512    | train | [1, 1, 512]   | [1, 64, 512] \n",
      "16  | layer1.0.net                                    | Sequential            | 512    | train | [1, 1, 512]   | [1, 64, 512] \n",
      "17  | layer1.0.net.0                                  | Conv1d                | 384    | train | [1, 1, 512]   | [1, 64, 512] \n",
      "18  | layer1.0.net.1                                  | ReLU                  | 0      | train | [1, 64, 512]  | [1, 64, 512] \n",
      "19  | layer1.0.net.2                                  | BatchNorm1d           | 128    | train | [1, 64, 512]  | [1, 64, 512] \n",
      "20  | layer1.1                                        | conbr_block           | 20.7 K | train | [1, 64, 512]  | [1, 64, 512] \n",
      "21  | layer1.1.net                                    | Sequential            | 20.7 K | train | [1, 64, 512]  | [1, 64, 512] \n",
      "22  | layer1.1.net.0                                  | Conv1d                | 20.5 K | train | [1, 64, 512]  | [1, 64, 512] \n",
      "23  | layer1.1.net.1                                  | ReLU                  | 0      | train | [1, 64, 512]  | [1, 64, 512] \n",
      "24  | layer1.1.net.2                                  | BatchNorm1d           | 128    | train | [1, 64, 512]  | [1, 64, 512] \n",
      "25  | layer2                                          | Sequential            | 123 K  | train | [1, 64, 256]  | [1, 128, 256]\n",
      "26  | layer2.0                                        | conbr_block           | 41.3 K | train | [1, 64, 256]  | [1, 128, 256]\n",
      "27  | layer2.0.net                                    | Sequential            | 41.3 K | train | [1, 64, 256]  | [1, 128, 256]\n",
      "28  | layer2.0.net.0                                  | Conv1d                | 41.1 K | train | [1, 64, 256]  | [1, 128, 256]\n",
      "29  | layer2.0.net.1                                  | ReLU                  | 0      | train | [1, 128, 256] | [1, 128, 256]\n",
      "30  | layer2.0.net.2                                  | BatchNorm1d           | 256    | train | [1, 128, 256] | [1, 128, 256]\n",
      "31  | layer2.1                                        | conbr_block           | 82.3 K | train | [1, 128, 256] | [1, 128, 256]\n",
      "32  | layer2.1.net                                    | Sequential            | 82.3 K | train | [1, 128, 256] | [1, 128, 256]\n",
      "33  | layer2.1.net.0                                  | Conv1d                | 82.0 K | train | [1, 128, 256] | [1, 128, 256]\n",
      "34  | layer2.1.net.1                                  | ReLU                  | 0      | train | [1, 128, 256] | [1, 128, 256]\n",
      "35  | layer2.1.net.2                                  | BatchNorm1d           | 256    | train | [1, 128, 256] | [1, 128, 256]\n",
      "36  | layer3                                          | Sequential            | 493 K  | train | [1, 128, 128] | [1, 256, 128]\n",
      "37  | layer3.0                                        | conbr_block           | 164 K  | train | [1, 128, 128] | [1, 256, 128]\n",
      "38  | layer3.0.net                                    | Sequential            | 164 K  | train | [1, 128, 128] | [1, 256, 128]\n",
      "39  | layer3.0.net.0                                  | Conv1d                | 164 K  | train | [1, 128, 128] | [1, 256, 128]\n",
      "40  | layer3.0.net.1                                  | ReLU                  | 0      | train | [1, 256, 128] | [1, 256, 128]\n",
      "41  | layer3.0.net.2                                  | BatchNorm1d           | 512    | train | [1, 256, 128] | [1, 256, 128]\n",
      "42  | layer3.1                                        | conbr_block           | 328 K  | train | [1, 256, 128] | [1, 256, 128]\n",
      "43  | layer3.1.net                                    | Sequential            | 328 K  | train | [1, 256, 128] | [1, 256, 128]\n",
      "44  | layer3.1.net.0                                  | Conv1d                | 327 K  | train | [1, 256, 128] | [1, 256, 128]\n",
      "45  | layer3.1.net.1                                  | ReLU                  | 0      | train | [1, 256, 128] | [1, 256, 128]\n",
      "46  | layer3.1.net.2                                  | BatchNorm1d           | 512    | train | [1, 256, 128] | [1, 256, 128]\n",
      "47  | layer4                                          | Sequential            | 2.0 M  | train | [1, 256, 64]  | [1, 512, 64] \n",
      "48  | layer4.0                                        | conbr_block           | 656 K  | train | [1, 256, 64]  | [1, 512, 64] \n",
      "49  | layer4.0.net                                    | Sequential            | 656 K  | train | [1, 256, 64]  | [1, 512, 64] \n",
      "50  | layer4.0.net.0                                  | Conv1d                | 655 K  | train | [1, 256, 64]  | [1, 512, 64] \n",
      "51  | layer4.0.net.1                                  | ReLU                  | 0      | train | [1, 512, 64]  | [1, 512, 64] \n",
      "52  | layer4.0.net.2                                  | BatchNorm1d           | 1.0 K  | train | [1, 512, 64]  | [1, 512, 64] \n",
      "53  | layer4.1                                        | conbr_block           | 1.3 M  | train | [1, 512, 64]  | [1, 512, 64] \n",
      "54  | layer4.1.net                                    | Sequential            | 1.3 M  | train | [1, 512, 64]  | [1, 512, 64] \n",
      "55  | layer4.1.net.0                                  | Conv1d                | 1.3 M  | train | [1, 512, 64]  | [1, 512, 64] \n",
      "56  | layer4.1.net.1                                  | ReLU                  | 0      | train | [1, 512, 64]  | [1, 512, 64] \n",
      "57  | layer4.1.net.2                                  | BatchNorm1d           | 1.0 K  | train | [1, 512, 64]  | [1, 512, 64] \n",
      "58  | layer5                                          | Sequential            | 7.9 M  | train | [1, 512, 32]  | [1, 1024, 32]\n",
      "59  | layer5.0                                        | conbr_block           | 2.6 M  | train | [1, 512, 32]  | [1, 1024, 32]\n",
      "60  | layer5.0.net                                    | Sequential            | 2.6 M  | train | [1, 512, 32]  | [1, 1024, 32]\n",
      "61  | layer5.0.net.0                                  | Conv1d                | 2.6 M  | train | [1, 512, 32]  | [1, 1024, 32]\n",
      "62  | layer5.0.net.1                                  | ReLU                  | 0      | train | [1, 1024, 32] | [1, 1024, 32]\n",
      "63  | layer5.0.net.2                                  | BatchNorm1d           | 2.0 K  | train | [1, 1024, 32] | [1, 1024, 32]\n",
      "64  | layer5.1                                        | conbr_block           | 5.2 M  | train | [1, 1024, 32] | [1, 1024, 32]\n",
      "65  | layer5.1.net                                    | Sequential            | 5.2 M  | train | [1, 1024, 32] | [1, 1024, 32]\n",
      "66  | layer5.1.net.0                                  | Conv1d                | 5.2 M  | train | [1, 1024, 32] | [1, 1024, 32]\n",
      "67  | layer5.1.net.1                                  | ReLU                  | 0      | train | [1, 1024, 32] | [1, 1024, 32]\n",
      "68  | layer5.1.net.2                                  | BatchNorm1d           | 2.0 K  | train | [1, 1024, 32] | [1, 1024, 32]\n",
      "69  | layer5T                                         | Sequential            | 2.6 M  | train | [1, 1024, 32] | [1, 512, 64] \n",
      "70  | layer5T.0                                       | ConvTranspose1d       | 2.6 M  | train | [1, 1024, 32] | [1, 512, 64] \n",
      "71  | layer4T                                         | Sequential            | 3.6 M  | train | [1, 1024, 64] | [1, 256, 128]\n",
      "72  | layer4T.0                                       | conbr_block           | 2.6 M  | train | [1, 1024, 64] | [1, 512, 64] \n",
      "73  | layer4T.0.net                                   | Sequential            | 2.6 M  | train | [1, 1024, 64] | [1, 512, 64] \n",
      "74  | layer4T.0.net.0                                 | Conv1d                | 2.6 M  | train | [1, 1024, 64] | [1, 512, 64] \n",
      "75  | layer4T.0.net.1                                 | ReLU                  | 0      | train | [1, 512, 64]  | [1, 512, 64] \n",
      "76  | layer4T.0.net.2                                 | BatchNorm1d           | 1.0 K  | train | [1, 512, 64]  | [1, 512, 64] \n",
      "77  | layer4T.1                                       | conbr_block           | 656 K  | train | [1, 512, 64]  | [1, 256, 64] \n",
      "78  | layer4T.1.net                                   | Sequential            | 656 K  | train | [1, 512, 64]  | [1, 256, 64] \n",
      "79  | layer4T.1.net.0                                 | Conv1d                | 655 K  | train | [1, 512, 64]  | [1, 256, 64] \n",
      "80  | layer4T.1.net.1                                 | ReLU                  | 0      | train | [1, 256, 64]  | [1, 256, 64] \n",
      "81  | layer4T.1.net.2                                 | BatchNorm1d           | 512    | train | [1, 256, 64]  | [1, 256, 64] \n",
      "82  | layer4T.2                                       | ConvTranspose1d       | 327 K  | train | [1, 256, 64]  | [1, 256, 128]\n",
      "83  | layer3T                                         | Sequential            | 902 K  | train | [1, 512, 128] | [1, 128, 256]\n",
      "84  | layer3T.0                                       | conbr_block           | 656 K  | train | [1, 512, 128] | [1, 256, 128]\n",
      "85  | layer3T.0.net                                   | Sequential            | 656 K  | train | [1, 512, 128] | [1, 256, 128]\n",
      "86  | layer3T.0.net.0                                 | Conv1d                | 655 K  | train | [1, 512, 128] | [1, 256, 128]\n",
      "87  | layer3T.0.net.1                                 | ReLU                  | 0      | train | [1, 256, 128] | [1, 256, 128]\n",
      "88  | layer3T.0.net.2                                 | BatchNorm1d           | 512    | train | [1, 256, 128] | [1, 256, 128]\n",
      "89  | layer3T.1                                       | conbr_block           | 164 K  | train | [1, 256, 128] | [1, 128, 128]\n",
      "90  | layer3T.1.net                                   | Sequential            | 164 K  | train | [1, 256, 128] | [1, 128, 128]\n",
      "91  | layer3T.1.net.0                                 | Conv1d                | 163 K  | train | [1, 256, 128] | [1, 128, 128]\n",
      "92  | layer3T.1.net.1                                 | ReLU                  | 0      | train | [1, 128, 128] | [1, 128, 128]\n",
      "93  | layer3T.1.net.2                                 | BatchNorm1d           | 256    | train | [1, 128, 128] | [1, 128, 128]\n",
      "94  | layer3T.2                                       | ConvTranspose1d       | 82.0 K | train | [1, 128, 128] | [1, 128, 256]\n",
      "95  | layer2T                                         | Sequential            | 225 K  | train | [1, 256, 256] | [1, 64, 512] \n",
      "96  | layer2T.0                                       | conbr_block           | 164 K  | train | [1, 256, 256] | [1, 128, 256]\n",
      "97  | layer2T.0.net                                   | Sequential            | 164 K  | train | [1, 256, 256] | [1, 128, 256]\n",
      "98  | layer2T.0.net.0                                 | Conv1d                | 163 K  | train | [1, 256, 256] | [1, 128, 256]\n",
      "99  | layer2T.0.net.1                                 | ReLU                  | 0      | train | [1, 128, 256] | [1, 128, 256]\n",
      "100 | layer2T.0.net.2                                 | BatchNorm1d           | 256    | train | [1, 128, 256] | [1, 128, 256]\n",
      "101 | layer2T.1                                       | conbr_block           | 41.2 K | train | [1, 128, 256] | [1, 64, 256] \n",
      "102 | layer2T.1.net                                   | Sequential            | 41.2 K | train | [1, 128, 256] | [1, 64, 256] \n",
      "103 | layer2T.1.net.0                                 | Conv1d                | 41.0 K | train | [1, 128, 256] | [1, 64, 256] \n",
      "104 | layer2T.1.net.1                                 | ReLU                  | 0      | train | [1, 64, 256]  | [1, 64, 256] \n",
      "105 | layer2T.1.net.2                                 | BatchNorm1d           | 128    | train | [1, 64, 256]  | [1, 64, 256] \n",
      "106 | layer2T.2                                       | ConvTranspose1d       | 20.5 K | train | [1, 64, 256]  | [1, 64, 512] \n",
      "107 | layer1Out                                       | Sequential            | 43.1 K | train | [1, 128, 512] | [1, 6, 512]  \n",
      "108 | layer1Out.0                                     | conbr_block           | 41.2 K | train | [1, 128, 512] | [1, 64, 512] \n",
      "109 | layer1Out.0.net                                 | Sequential            | 41.2 K | train | [1, 128, 512] | [1, 64, 512] \n",
      "110 | layer1Out.0.net.0                               | Conv1d                | 41.0 K | train | [1, 128, 512] | [1, 64, 512] \n",
      "111 | layer1Out.0.net.1                               | ReLU                  | 0      | train | [1, 64, 512]  | [1, 64, 512] \n",
      "112 | layer1Out.0.net.2                               | BatchNorm1d           | 128    | train | [1, 64, 512]  | [1, 64, 512] \n",
      "113 | layer1Out.1                                     | conbr_block           | 1.9 K  | train | [1, 64, 512]  | [1, 6, 512]  \n",
      "114 | layer1Out.1.net                                 | Sequential            | 1.9 K  | train | [1, 64, 512]  | [1, 6, 512]  \n",
      "115 | layer1Out.1.net.0                               | Conv1d                | 1.9 K  | train | [1, 64, 512]  | [1, 6, 512]  \n",
      "116 | layer1Out.1.net.1                               | ReLU                  | 0      | train | [1, 6, 512]   | [1, 6, 512]  \n",
      "117 | layer1Out.1.net.2                               | BatchNorm1d           | 12     | train | [1, 6, 512]   | [1, 6, 512]  \n",
      "------------------------------------------------------------------------------------------------------------------------------------\n",
      "17.9 M    Trainable params\n",
      "0         Non-trainable params\n",
      "17.9 M    Total params\n",
      "71.512    Total estimated model params size (MB)\n",
      "118       Modules in train mode\n",
      "0         Modules in eval mode\n",
      "UNET_1D\n"
     ]
    }
   ],
   "source": [
    "model = UNET_1D(\n",
    "    in_channels=1, \n",
    "    layer_n=512, \n",
    "    out_channels=len(config['feature_list']), \n",
    "    kernel_size=5\n",
    ")\n",
    "print(ModelSummary(model, max_depth=-1))  \n",
    "print(type(model).__name__)"
   ]
  },
  {
   "cell_type": "code",
   "execution_count": 8,
   "id": "a000edf9",
   "metadata": {},
   "outputs": [
    {
     "name": "stderr",
     "output_type": "stream",
     "text": [
      "Using default `ModelCheckpoint`. Consider installing `litmodels` package to enable `LitModelCheckpoint` for automatic upload to the Lightning model registry.\n",
      "GPU available: True (cuda), used: True\n",
      "TPU available: False, using: 0 TPU cores\n",
      "HPU available: False, using: 0 HPUs\n"
     ]
    },
    {
     "name": "stdout",
     "output_type": "stream",
     "text": [
      "Current Time       : 2025-09-02_14-45\n"
     ]
    },
    {
     "data": {
      "text/html": [
       "Tracking run with wandb version 0.19.11"
      ],
      "text/plain": [
       "<IPython.core.display.HTML object>"
      ]
     },
     "metadata": {},
     "output_type": "display_data"
    },
    {
     "data": {
      "text/html": [
       "Run data is saved locally in <code>.\\wandb\\run-20250902_144510-0tpsihpm</code>"
      ],
      "text/plain": [
       "<IPython.core.display.HTML object>"
      ]
     },
     "metadata": {},
     "output_type": "display_data"
    },
    {
     "data": {
      "text/html": [
       "Syncing run <strong><a href='https://wandb.ai/HKA-EKG-Signalverarbeitung/HKA-EKG-Signalverarbeitung/runs/0tpsihpm' target=\"_blank\">1-lead_UNET_1D_2025-09-02_14-45</a></strong> to <a href='https://wandb.ai/HKA-EKG-Signalverarbeitung/HKA-EKG-Signalverarbeitung' target=\"_blank\">Weights & Biases</a> (<a href='https://wandb.me/developer-guide' target=\"_blank\">docs</a>)<br>"
      ],
      "text/plain": [
       "<IPython.core.display.HTML object>"
      ]
     },
     "metadata": {},
     "output_type": "display_data"
    },
    {
     "data": {
      "text/html": [
       " View project at <a href='https://wandb.ai/HKA-EKG-Signalverarbeitung/HKA-EKG-Signalverarbeitung' target=\"_blank\">https://wandb.ai/HKA-EKG-Signalverarbeitung/HKA-EKG-Signalverarbeitung</a>"
      ],
      "text/plain": [
       "<IPython.core.display.HTML object>"
      ]
     },
     "metadata": {},
     "output_type": "display_data"
    },
    {
     "data": {
      "text/html": [
       " View run at <a href='https://wandb.ai/HKA-EKG-Signalverarbeitung/HKA-EKG-Signalverarbeitung/runs/0tpsihpm' target=\"_blank\">https://wandb.ai/HKA-EKG-Signalverarbeitung/HKA-EKG-Signalverarbeitung/runs/0tpsihpm</a>"
      ],
      "text/plain": [
       "<IPython.core.display.HTML object>"
      ]
     },
     "metadata": {},
     "output_type": "display_data"
    },
    {
     "name": "stderr",
     "output_type": "stream",
     "text": [
      "LOCAL_RANK: 0 - CUDA_VISIBLE_DEVICES: [0]\n",
      "\n",
      "   | Name                    | Type                  | Params | Mode  | In sizes      | Out sizes    \n",
      "-----------------------------------------------------------------------------------------------------------\n",
      "0  | criterion               | BCEWithLogitsLoss     | 0      | train | ?             | ?            \n",
      "1  | train_jaccard           | BinaryJaccardIndex    | 0      | train | ?             | ?            \n",
      "2  | val_jaccard             | BinaryJaccardIndex    | 0      | train | ?             | ?            \n",
      "3  | test_jaccard            | BinaryJaccardIndex    | 0      | train | ?             | ?            \n",
      "4  | multi_tolerance_metrics | MultiToleranceWrapper | 0      | train | ?             | ?            \n",
      "5  | AvgPool1D1              | AvgPool1d             | 0      | train | [1, 64, 512]  | [1, 64, 256] \n",
      "6  | AvgPool1D2              | AvgPool1d             | 0      | train | [1, 128, 256] | [1, 128, 128]\n",
      "7  | AvgPool1D3              | AvgPool1d             | 0      | train | [1, 256, 128] | [1, 256, 64] \n",
      "8  | AvgPool1D4              | AvgPool1d             | 0      | train | [1, 512, 64]  | [1, 512, 32] \n",
      "9  | layer1                  | Sequential            | 21.2 K | train | [1, 1, 512]   | [1, 64, 512] \n",
      "10 | layer2                  | Sequential            | 123 K  | train | [1, 64, 256]  | [1, 128, 256]\n",
      "11 | layer3                  | Sequential            | 493 K  | train | [1, 128, 128] | [1, 256, 128]\n",
      "12 | layer4                  | Sequential            | 2.0 M  | train | [1, 256, 64]  | [1, 512, 64] \n",
      "13 | layer5                  | Sequential            | 7.9 M  | train | [1, 512, 32]  | [1, 1024, 32]\n",
      "14 | layer5T                 | Sequential            | 2.6 M  | train | [1, 1024, 32] | [1, 512, 64] \n",
      "15 | layer4T                 | Sequential            | 3.6 M  | train | [1, 1024, 64] | [1, 256, 128]\n",
      "16 | layer3T                 | Sequential            | 902 K  | train | [1, 512, 128] | [1, 128, 256]\n",
      "17 | layer2T                 | Sequential            | 225 K  | train | [1, 256, 256] | [1, 64, 512] \n",
      "18 | layer1Out               | Sequential            | 43.1 K | train | [1, 128, 512] | [1, 6, 512]  \n",
      "-----------------------------------------------------------------------------------------------------------\n",
      "17.9 M    Trainable params\n",
      "0         Non-trainable params\n",
      "17.9 M    Total params\n",
      "71.512    Total estimated model params size (MB)\n",
      "118       Modules in train mode\n",
      "0         Modules in eval mode\n"
     ]
    },
    {
     "name": "stdout",
     "output_type": "stream",
     "text": [
      "Epoch 16: 100%|██████████| 3359/3359 [03:22<00:00, 16.58it/s, v_num=ihpm, train_loss_step=0.0795, val_loss_step=0.0556, val_loss_epoch=0.0792, train_loss_epoch=0.0588]\n"
     ]
    },
    {
     "name": "stderr",
     "output_type": "stream",
     "text": [
      "\u001b[34m\u001b[1mwandb\u001b[0m: \u001b[32m\u001b[41mERROR\u001b[0m The nbformat package was not found. It is required to save notebook history.\n"
     ]
    },
    {
     "data": {
      "text/html": [],
      "text/plain": [
       "<IPython.core.display.HTML object>"
      ]
     },
     "metadata": {},
     "output_type": "display_data"
    },
    {
     "data": {
      "text/html": [
       "<br>    <style><br>        .wandb-row {<br>            display: flex;<br>            flex-direction: row;<br>            flex-wrap: wrap;<br>            justify-content: flex-start;<br>            width: 100%;<br>        }<br>        .wandb-col {<br>            display: flex;<br>            flex-direction: column;<br>            flex-basis: 100%;<br>            flex: 1;<br>            padding: 10px;<br>        }<br>    </style><br><div class=\"wandb-row\"><div class=\"wandb-col\"><h3>Run history:</h3><br/><table class=\"wandb\"><tr><td>epoch</td><td>▁▁▁▁▁▂▂▂▂▂▃▃▃▃▃▃▃▄▄▄▅▅▅▅▆▆▆▇▇▇▇▇▇▇▇█████</td></tr><tr><td>train_loss_epoch</td><td>█▃▂▂▂▂▂▂▁▁▁▁▁▁▁▁▁</td></tr><tr><td>train_loss_step</td><td>█▅▆█▃▁▂▂▄▂▂▃▂▂▂▂▂▂▂▂▂▃▁▂▃▁▂▂▂▁▂▂▁▂▂▁▁▁▂▁</td></tr><tr><td>trainer/global_step</td><td>▁▁▁▂▂▂▂▂▂▂▂▃▃▃▃▃▄▄▄▄▅▅▅▅▅▆▆▆▆▆▇▇▇▇▇█████</td></tr><tr><td>val_loss_epoch</td><td>█▃▃▄▂▅▁▂▂▁▁▁▁▂▁▂▂</td></tr><tr><td>val_loss_step</td><td>▃▃▂▃▃▂▃▃▁▅▁█▃▂▁▁▁▃▁▂▁▂▄▃▃▁▁▁▂▂█▂▂▂▃▃▅▃▂▁</td></tr></table><br/></div><div class=\"wandb-col\"><h3>Run summary:</h3><br/><table class=\"wandb\"><tr><td>epoch</td><td>16</td></tr><tr><td>train_loss_epoch</td><td>0.05881</td></tr><tr><td>train_loss_step</td><td>0.07416</td></tr><tr><td>trainer/global_step</td><td>57102</td></tr><tr><td>val_loss_epoch</td><td>0.07924</td></tr><tr><td>val_loss_step</td><td>0.0556</td></tr></table><br/></div></div>"
      ],
      "text/plain": [
       "<IPython.core.display.HTML object>"
      ]
     },
     "metadata": {},
     "output_type": "display_data"
    },
    {
     "data": {
      "text/html": [
       " View run <strong style=\"color:#cdcd00\">1-lead_UNET_1D_2025-09-02_14-45</strong> at: <a href='https://wandb.ai/HKA-EKG-Signalverarbeitung/HKA-EKG-Signalverarbeitung/runs/0tpsihpm' target=\"_blank\">https://wandb.ai/HKA-EKG-Signalverarbeitung/HKA-EKG-Signalverarbeitung/runs/0tpsihpm</a><br> View project at: <a href='https://wandb.ai/HKA-EKG-Signalverarbeitung/HKA-EKG-Signalverarbeitung' target=\"_blank\">https://wandb.ai/HKA-EKG-Signalverarbeitung/HKA-EKG-Signalverarbeitung</a><br>Synced 5 W&B file(s), 0 media file(s), 0 artifact file(s) and 0 other file(s)"
      ],
      "text/plain": [
       "<IPython.core.display.HTML object>"
      ]
     },
     "metadata": {},
     "output_type": "display_data"
    },
    {
     "data": {
      "text/html": [
       "Find logs at: <code>.\\wandb\\run-20250902_144510-0tpsihpm\\logs</code>"
      ],
      "text/plain": [
       "<IPython.core.display.HTML object>"
      ]
     },
     "metadata": {},
     "output_type": "display_data"
    },
    {
     "name": "stdout",
     "output_type": "stream",
     "text": [
      "Model checkpoint saved as C:\\Users\\lukas\\Documents\\HKA_DEV\\HKA_EKG_Signalverarbeitung_Data\\models\\1-lead_UNET_1D_2025-09-02_14-45.ckpt\n"
     ]
    }
   ],
   "source": [
    "current_time = datetime.datetime.now().strftime(\"%Y-%m-%d_%H-%M\")\n",
    "print(f\"Current Time       : {current_time}\")\n",
    "\n",
    "# Initialize wandb logger (https://wandb.ai/HKA-EKG-Signalverarbeitung)\n",
    "wandb_logger = WandbLogger(\n",
    "    project=config['wandb_project_name'],\n",
    "    name=f\"{config['wandb_experiment_name']}_{type(model).__name__}_{current_time}\",\n",
    "    config={\n",
    "        'model': type(model).__name__,\n",
    "        'dataset': type(dm).__name__,\n",
    "        'batch_size': config['batch_size'],\n",
    "        'max_epochs': config['max_epochs'],\n",
    "        'learning_rate': config['learning_rate']\n",
    "    }\n",
    ")\n",
    "\n",
    "# Initialize Trainer with wandb logger, using early stopping callback (https://lightning.ai/docs/pytorch/stable/common/early_stopping.html)\n",
    "trainer = Trainer(\n",
    "    max_epochs=config['max_epochs'], \n",
    "    default_root_dir='model/checkpoint/', #data_directory, \n",
    "    accelerator=\"auto\", \n",
    "    devices=\"auto\", \n",
    "    strategy=\"auto\",\n",
    "    callbacks=[EarlyStopping(monitor='val_loss', patience=5, mode='min')], \n",
    "    logger=wandb_logger)\n",
    "\n",
    "trainer.fit(model=model, datamodule=dm)\n",
    "\n",
    "# Finish wandb\n",
    "wandb.finish()\n",
    "\n",
    "# Create a filename with date identifier\n",
    "model_filename = f\"{config['wandb_experiment_name']}_{type(model).__name__}_{current_time}.ckpt\"\n",
    "\n",
    "# Save the model's state_dict to the path specified in config\n",
    "save_path = os.path.join(config['path_to_models'], model_filename)\n",
    "trainer.save_checkpoint(save_path)\n",
    "print(f\"Model checkpoint saved as {save_path}\")"
   ]
  },
  {
   "cell_type": "code",
   "execution_count": 6,
   "id": "73e144e1",
   "metadata": {},
   "outputs": [
    {
     "name": "stderr",
     "output_type": "stream",
     "text": [
      "c:\\Users\\lukas\\anaconda3\\envs\\HKA_EKG_Signalverarbeitung\\Lib\\site-packages\\tqdm\\auto.py:21: TqdmWarning: IProgress not found. Please update jupyter and ipywidgets. See https://ipywidgets.readthedocs.io/en/stable/user_install.html\n",
      "  from .autonotebook import tqdm as notebook_tqdm\n",
      "[I 2025-09-04 10:41:02,704] A new study created in memory with name: Optuna_HPO_2025-09-04_10-41\n",
      "  0%|          | 0/5 [00:00<?, ?it/s]c:\\Users\\lukas\\anaconda3\\envs\\HKA_EKG_Signalverarbeitung\\Lib\\site-packages\\optuna\\distributions.py:699: UserWarning: The distribution is specified by [3, 5] and step=10, but the range is not divisible by `step`. It will be replaced by [3, 3].\n",
      "  warnings.warn(\n",
      "  0%|          | 0/5 [00:00<?, ?it/s]\n"
     ]
    },
    {
     "name": "stdout",
     "output_type": "stream",
     "text": [
      "[W 2025-09-04 10:41:02,707] Trial 0 failed with parameters: {'batch_size': 64, 'max_epochs': 3, 'accumulate_grad_batches': 2, 'precision': 32, 'optimizer': 'Adam', 'learning_rate': 0.00828557560458755, 'weight_decay': 0.0005723288041222788, 'scheduler': 'ReduceLROnPlateau'} because of the following error: KeyError('data_dir').\n",
      "Traceback (most recent call last):\n",
      "  File \"c:\\Users\\lukas\\anaconda3\\envs\\HKA_EKG_Signalverarbeitung\\Lib\\site-packages\\optuna\\study\\_optimize.py\", line 197, in _run_trial\n",
      "    value_or_values = func(trial)\n",
      "                      ^^^^^^^^^^^\n",
      "  File \"C:\\Users\\lukas\\AppData\\Local\\Temp\\ipykernel_48220\\375101623.py\", line 13, in objective\n",
      "    return trainer.run_training(trial)\n",
      "           ^^^^^^^^^^^^^^^^^^^^^^^^^^^\n",
      "  File \"c:\\Users\\lukas\\Documents\\HKA_DEV\\HKA_EKG_Signalverarbeitung\\training\\hyperparameter_optimiztation.py\", line 72, in run_training\n",
      "    data_dir=self.config['data_dir'],\n",
      "             ~~~~~~~~~~~^^^^^^^^^^^^\n",
      "KeyError: 'data_dir'\n",
      "[W 2025-09-04 10:41:02,709] Trial 0 failed with value None.\n"
     ]
    },
    {
     "ename": "KeyError",
     "evalue": "'data_dir'",
     "output_type": "error",
     "traceback": [
      "\u001b[31m---------------------------------------------------------------------------\u001b[39m",
      "\u001b[31mKeyError\u001b[39m                                  Traceback (most recent call last)",
      "\u001b[36mCell\u001b[39m\u001b[36m \u001b[39m\u001b[32mIn[6]\u001b[39m\u001b[32m, line 22\u001b[39m\n\u001b[32m     19\u001b[39m optuna.logging.set_verbosity(optuna.logging.WARNING)\n\u001b[32m     21\u001b[39m \u001b[38;5;66;03m# Start optimization\u001b[39;00m\n\u001b[32m---> \u001b[39m\u001b[32m22\u001b[39m \u001b[43mstudy\u001b[49m\u001b[43m.\u001b[49m\u001b[43moptimize\u001b[49m\u001b[43m(\u001b[49m\u001b[43mobjective\u001b[49m\u001b[43m,\u001b[49m\u001b[43m \u001b[49m\u001b[43mn_trials\u001b[49m\u001b[43m=\u001b[49m\u001b[43mconfig\u001b[49m\u001b[43m[\u001b[49m\u001b[33;43m'\u001b[39;49m\u001b[33;43mnumber_of_trials\u001b[39;49m\u001b[33;43m'\u001b[39;49m\u001b[43m]\u001b[49m\u001b[43m,\u001b[49m\u001b[43m \u001b[49m\u001b[43mgc_after_trial\u001b[49m\u001b[43m=\u001b[49m\u001b[38;5;28;43;01mTrue\u001b[39;49;00m\u001b[43m,\u001b[49m\u001b[43m \u001b[49m\u001b[43mshow_progress_bar\u001b[49m\u001b[43m=\u001b[49m\u001b[38;5;28;43;01mTrue\u001b[39;49;00m\u001b[43m)\u001b[49m\n\u001b[32m     24\u001b[39m \u001b[38;5;66;03m# Best result\u001b[39;00m\n\u001b[32m     25\u001b[39m \u001b[38;5;28mprint\u001b[39m(\u001b[33m\"\u001b[39m\u001b[33mBest trial: \u001b[39m\u001b[33m\"\u001b[39m, study.best_trial)\n",
      "\u001b[36mFile \u001b[39m\u001b[32mc:\\Users\\lukas\\anaconda3\\envs\\HKA_EKG_Signalverarbeitung\\Lib\\site-packages\\optuna\\study\\study.py:475\u001b[39m, in \u001b[36mStudy.optimize\u001b[39m\u001b[34m(self, func, n_trials, timeout, n_jobs, catch, callbacks, gc_after_trial, show_progress_bar)\u001b[39m\n\u001b[32m    373\u001b[39m \u001b[38;5;28;01mdef\u001b[39;00m\u001b[38;5;250m \u001b[39m\u001b[34moptimize\u001b[39m(\n\u001b[32m    374\u001b[39m     \u001b[38;5;28mself\u001b[39m,\n\u001b[32m    375\u001b[39m     func: ObjectiveFuncType,\n\u001b[32m   (...)\u001b[39m\u001b[32m    382\u001b[39m     show_progress_bar: \u001b[38;5;28mbool\u001b[39m = \u001b[38;5;28;01mFalse\u001b[39;00m,\n\u001b[32m    383\u001b[39m ) -> \u001b[38;5;28;01mNone\u001b[39;00m:\n\u001b[32m    384\u001b[39m \u001b[38;5;250m    \u001b[39m\u001b[33;03m\"\"\"Optimize an objective function.\u001b[39;00m\n\u001b[32m    385\u001b[39m \n\u001b[32m    386\u001b[39m \u001b[33;03m    Optimization is done by choosing a suitable set of hyperparameter values from a given\u001b[39;00m\n\u001b[32m   (...)\u001b[39m\u001b[32m    473\u001b[39m \u001b[33;03m            If nested invocation of this method occurs.\u001b[39;00m\n\u001b[32m    474\u001b[39m \u001b[33;03m    \"\"\"\u001b[39;00m\n\u001b[32m--> \u001b[39m\u001b[32m475\u001b[39m     \u001b[43m_optimize\u001b[49m\u001b[43m(\u001b[49m\n\u001b[32m    476\u001b[39m \u001b[43m        \u001b[49m\u001b[43mstudy\u001b[49m\u001b[43m=\u001b[49m\u001b[38;5;28;43mself\u001b[39;49m\u001b[43m,\u001b[49m\n\u001b[32m    477\u001b[39m \u001b[43m        \u001b[49m\u001b[43mfunc\u001b[49m\u001b[43m=\u001b[49m\u001b[43mfunc\u001b[49m\u001b[43m,\u001b[49m\n\u001b[32m    478\u001b[39m \u001b[43m        \u001b[49m\u001b[43mn_trials\u001b[49m\u001b[43m=\u001b[49m\u001b[43mn_trials\u001b[49m\u001b[43m,\u001b[49m\n\u001b[32m    479\u001b[39m \u001b[43m        \u001b[49m\u001b[43mtimeout\u001b[49m\u001b[43m=\u001b[49m\u001b[43mtimeout\u001b[49m\u001b[43m,\u001b[49m\n\u001b[32m    480\u001b[39m \u001b[43m        \u001b[49m\u001b[43mn_jobs\u001b[49m\u001b[43m=\u001b[49m\u001b[43mn_jobs\u001b[49m\u001b[43m,\u001b[49m\n\u001b[32m    481\u001b[39m \u001b[43m        \u001b[49m\u001b[43mcatch\u001b[49m\u001b[43m=\u001b[49m\u001b[38;5;28;43mtuple\u001b[39;49m\u001b[43m(\u001b[49m\u001b[43mcatch\u001b[49m\u001b[43m)\u001b[49m\u001b[43m \u001b[49m\u001b[38;5;28;43;01mif\u001b[39;49;00m\u001b[43m \u001b[49m\u001b[38;5;28;43misinstance\u001b[39;49m\u001b[43m(\u001b[49m\u001b[43mcatch\u001b[49m\u001b[43m,\u001b[49m\u001b[43m \u001b[49m\u001b[43mIterable\u001b[49m\u001b[43m)\u001b[49m\u001b[43m \u001b[49m\u001b[38;5;28;43;01melse\u001b[39;49;00m\u001b[43m \u001b[49m\u001b[43m(\u001b[49m\u001b[43mcatch\u001b[49m\u001b[43m,\u001b[49m\u001b[43m)\u001b[49m\u001b[43m,\u001b[49m\n\u001b[32m    482\u001b[39m \u001b[43m        \u001b[49m\u001b[43mcallbacks\u001b[49m\u001b[43m=\u001b[49m\u001b[43mcallbacks\u001b[49m\u001b[43m,\u001b[49m\n\u001b[32m    483\u001b[39m \u001b[43m        \u001b[49m\u001b[43mgc_after_trial\u001b[49m\u001b[43m=\u001b[49m\u001b[43mgc_after_trial\u001b[49m\u001b[43m,\u001b[49m\n\u001b[32m    484\u001b[39m \u001b[43m        \u001b[49m\u001b[43mshow_progress_bar\u001b[49m\u001b[43m=\u001b[49m\u001b[43mshow_progress_bar\u001b[49m\u001b[43m,\u001b[49m\n\u001b[32m    485\u001b[39m \u001b[43m    \u001b[49m\u001b[43m)\u001b[49m\n",
      "\u001b[36mFile \u001b[39m\u001b[32mc:\\Users\\lukas\\anaconda3\\envs\\HKA_EKG_Signalverarbeitung\\Lib\\site-packages\\optuna\\study\\_optimize.py:63\u001b[39m, in \u001b[36m_optimize\u001b[39m\u001b[34m(study, func, n_trials, timeout, n_jobs, catch, callbacks, gc_after_trial, show_progress_bar)\u001b[39m\n\u001b[32m     61\u001b[39m \u001b[38;5;28;01mtry\u001b[39;00m:\n\u001b[32m     62\u001b[39m     \u001b[38;5;28;01mif\u001b[39;00m n_jobs == \u001b[32m1\u001b[39m:\n\u001b[32m---> \u001b[39m\u001b[32m63\u001b[39m         \u001b[43m_optimize_sequential\u001b[49m\u001b[43m(\u001b[49m\n\u001b[32m     64\u001b[39m \u001b[43m            \u001b[49m\u001b[43mstudy\u001b[49m\u001b[43m,\u001b[49m\n\u001b[32m     65\u001b[39m \u001b[43m            \u001b[49m\u001b[43mfunc\u001b[49m\u001b[43m,\u001b[49m\n\u001b[32m     66\u001b[39m \u001b[43m            \u001b[49m\u001b[43mn_trials\u001b[49m\u001b[43m,\u001b[49m\n\u001b[32m     67\u001b[39m \u001b[43m            \u001b[49m\u001b[43mtimeout\u001b[49m\u001b[43m,\u001b[49m\n\u001b[32m     68\u001b[39m \u001b[43m            \u001b[49m\u001b[43mcatch\u001b[49m\u001b[43m,\u001b[49m\n\u001b[32m     69\u001b[39m \u001b[43m            \u001b[49m\u001b[43mcallbacks\u001b[49m\u001b[43m,\u001b[49m\n\u001b[32m     70\u001b[39m \u001b[43m            \u001b[49m\u001b[43mgc_after_trial\u001b[49m\u001b[43m,\u001b[49m\n\u001b[32m     71\u001b[39m \u001b[43m            \u001b[49m\u001b[43mreseed_sampler_rng\u001b[49m\u001b[43m=\u001b[49m\u001b[38;5;28;43;01mFalse\u001b[39;49;00m\u001b[43m,\u001b[49m\n\u001b[32m     72\u001b[39m \u001b[43m            \u001b[49m\u001b[43mtime_start\u001b[49m\u001b[43m=\u001b[49m\u001b[38;5;28;43;01mNone\u001b[39;49;00m\u001b[43m,\u001b[49m\n\u001b[32m     73\u001b[39m \u001b[43m            \u001b[49m\u001b[43mprogress_bar\u001b[49m\u001b[43m=\u001b[49m\u001b[43mprogress_bar\u001b[49m\u001b[43m,\u001b[49m\n\u001b[32m     74\u001b[39m \u001b[43m        \u001b[49m\u001b[43m)\u001b[49m\n\u001b[32m     75\u001b[39m     \u001b[38;5;28;01melse\u001b[39;00m:\n\u001b[32m     76\u001b[39m         \u001b[38;5;28;01mif\u001b[39;00m n_jobs == -\u001b[32m1\u001b[39m:\n",
      "\u001b[36mFile \u001b[39m\u001b[32mc:\\Users\\lukas\\anaconda3\\envs\\HKA_EKG_Signalverarbeitung\\Lib\\site-packages\\optuna\\study\\_optimize.py:160\u001b[39m, in \u001b[36m_optimize_sequential\u001b[39m\u001b[34m(study, func, n_trials, timeout, catch, callbacks, gc_after_trial, reseed_sampler_rng, time_start, progress_bar)\u001b[39m\n\u001b[32m    157\u001b[39m         \u001b[38;5;28;01mbreak\u001b[39;00m\n\u001b[32m    159\u001b[39m \u001b[38;5;28;01mtry\u001b[39;00m:\n\u001b[32m--> \u001b[39m\u001b[32m160\u001b[39m     frozen_trial = \u001b[43m_run_trial\u001b[49m\u001b[43m(\u001b[49m\u001b[43mstudy\u001b[49m\u001b[43m,\u001b[49m\u001b[43m \u001b[49m\u001b[43mfunc\u001b[49m\u001b[43m,\u001b[49m\u001b[43m \u001b[49m\u001b[43mcatch\u001b[49m\u001b[43m)\u001b[49m\n\u001b[32m    161\u001b[39m \u001b[38;5;28;01mfinally\u001b[39;00m:\n\u001b[32m    162\u001b[39m     \u001b[38;5;66;03m# The following line mitigates memory problems that can be occurred in some\u001b[39;00m\n\u001b[32m    163\u001b[39m     \u001b[38;5;66;03m# environments (e.g., services that use computing containers such as GitHub Actions).\u001b[39;00m\n\u001b[32m    164\u001b[39m     \u001b[38;5;66;03m# Please refer to the following PR for further details:\u001b[39;00m\n\u001b[32m    165\u001b[39m     \u001b[38;5;66;03m# https://github.com/optuna/optuna/pull/325.\u001b[39;00m\n\u001b[32m    166\u001b[39m     \u001b[38;5;28;01mif\u001b[39;00m gc_after_trial:\n",
      "\u001b[36mFile \u001b[39m\u001b[32mc:\\Users\\lukas\\anaconda3\\envs\\HKA_EKG_Signalverarbeitung\\Lib\\site-packages\\optuna\\study\\_optimize.py:248\u001b[39m, in \u001b[36m_run_trial\u001b[39m\u001b[34m(study, func, catch)\u001b[39m\n\u001b[32m    241\u001b[39m         \u001b[38;5;28;01massert\u001b[39;00m \u001b[38;5;28;01mFalse\u001b[39;00m, \u001b[33m\"\u001b[39m\u001b[33mShould not reach.\u001b[39m\u001b[33m\"\u001b[39m\n\u001b[32m    243\u001b[39m \u001b[38;5;28;01mif\u001b[39;00m (\n\u001b[32m    244\u001b[39m     frozen_trial.state == TrialState.FAIL\n\u001b[32m    245\u001b[39m     \u001b[38;5;129;01mand\u001b[39;00m func_err \u001b[38;5;129;01mis\u001b[39;00m \u001b[38;5;129;01mnot\u001b[39;00m \u001b[38;5;28;01mNone\u001b[39;00m\n\u001b[32m    246\u001b[39m     \u001b[38;5;129;01mand\u001b[39;00m \u001b[38;5;129;01mnot\u001b[39;00m \u001b[38;5;28misinstance\u001b[39m(func_err, catch)\n\u001b[32m    247\u001b[39m ):\n\u001b[32m--> \u001b[39m\u001b[32m248\u001b[39m     \u001b[38;5;28;01mraise\u001b[39;00m func_err\n\u001b[32m    249\u001b[39m \u001b[38;5;28;01mreturn\u001b[39;00m frozen_trial\n",
      "\u001b[36mFile \u001b[39m\u001b[32mc:\\Users\\lukas\\anaconda3\\envs\\HKA_EKG_Signalverarbeitung\\Lib\\site-packages\\optuna\\study\\_optimize.py:197\u001b[39m, in \u001b[36m_run_trial\u001b[39m\u001b[34m(study, func, catch)\u001b[39m\n\u001b[32m    195\u001b[39m \u001b[38;5;28;01mwith\u001b[39;00m get_heartbeat_thread(trial._trial_id, study._storage):\n\u001b[32m    196\u001b[39m     \u001b[38;5;28;01mtry\u001b[39;00m:\n\u001b[32m--> \u001b[39m\u001b[32m197\u001b[39m         value_or_values = \u001b[43mfunc\u001b[49m\u001b[43m(\u001b[49m\u001b[43mtrial\u001b[49m\u001b[43m)\u001b[49m\n\u001b[32m    198\u001b[39m     \u001b[38;5;28;01mexcept\u001b[39;00m exceptions.TrialPruned \u001b[38;5;28;01mas\u001b[39;00m e:\n\u001b[32m    199\u001b[39m         \u001b[38;5;66;03m# TODO(mamu): Handle multi-objective cases.\u001b[39;00m\n\u001b[32m    200\u001b[39m         state = TrialState.PRUNED\n",
      "\u001b[36mCell\u001b[39m\u001b[36m \u001b[39m\u001b[32mIn[6]\u001b[39m\u001b[32m, line 13\u001b[39m, in \u001b[36mobjective\u001b[39m\u001b[34m(trial)\u001b[39m\n\u001b[32m      8\u001b[39m config[\u001b[33m\"\u001b[39m\u001b[33mmodel_name\u001b[39m\u001b[33m\"\u001b[39m] = \u001b[38;5;28mtype\u001b[39m(model).\u001b[34m__name__\u001b[39m\n\u001b[32m      9\u001b[39m trainer = OptunaTrainer(\n\u001b[32m     10\u001b[39m     model=model,\n\u001b[32m     11\u001b[39m     config=config\n\u001b[32m     12\u001b[39m )\n\u001b[32m---> \u001b[39m\u001b[32m13\u001b[39m \u001b[38;5;28;01mreturn\u001b[39;00m \u001b[43mtrainer\u001b[49m\u001b[43m.\u001b[49m\u001b[43mrun_training\u001b[49m\u001b[43m(\u001b[49m\u001b[43mtrial\u001b[49m\u001b[43m)\u001b[49m\n",
      "\u001b[36mFile \u001b[39m\u001b[32mc:\\Users\\lukas\\Documents\\HKA_DEV\\HKA_EKG_Signalverarbeitung\\training\\hyperparameter_optimiztation.py:72\u001b[39m, in \u001b[36mOptunaTrainer.run_training\u001b[39m\u001b[34m(self, trial)\u001b[39m\n\u001b[32m     67\u001b[39m \u001b[38;5;28mself\u001b[39m.config[\u001b[33m'\u001b[39m\u001b[33mscheduler\u001b[39m\u001b[33m'\u001b[39m] = trial.suggest_categorical(\u001b[33m'\u001b[39m\u001b[33mscheduler\u001b[39m\u001b[33m'\u001b[39m, \u001b[38;5;28mself\u001b[39m.config[\u001b[33m'\u001b[39m\u001b[33mhpo_scheduler\u001b[39m\u001b[33m'\u001b[39m])\n\u001b[32m     69\u001b[39m transform = \u001b[38;5;28mself\u001b[39m._build_transform() \u001b[38;5;66;03m# not utilized, but acts as a dummy for data augmentation if required\u001b[39;00m\n\u001b[32m     71\u001b[39m dm = \u001b[38;5;28mself\u001b[39m.datamodule(\n\u001b[32m---> \u001b[39m\u001b[32m72\u001b[39m     data_dir=\u001b[38;5;28;43mself\u001b[39;49m\u001b[43m.\u001b[49m\u001b[43mconfig\u001b[49m\u001b[43m[\u001b[49m\u001b[33;43m'\u001b[39;49m\u001b[33;43mdata_dir\u001b[39;49m\u001b[33;43m'\u001b[39;49m\u001b[43m]\u001b[49m,\n\u001b[32m     73\u001b[39m     batch_size=\u001b[38;5;28mself\u001b[39m.config[\u001b[33m'\u001b[39m\u001b[33mbatch_size\u001b[39m\u001b[33m'\u001b[39m],\n\u001b[32m     74\u001b[39m     num_workers=\u001b[38;5;28mself\u001b[39m.config[\u001b[33m'\u001b[39m\u001b[33mnum_workers\u001b[39m\u001b[33m'\u001b[39m],\n\u001b[32m     75\u001b[39m     transform=transform,\n\u001b[32m     76\u001b[39m     persistent_workers=\u001b[38;5;28mself\u001b[39m.config[\u001b[33m'\u001b[39m\u001b[33mpersistent_workers\u001b[39m\u001b[33m'\u001b[39m],\n\u001b[32m     77\u001b[39m     feature_list=\u001b[38;5;28mself\u001b[39m.config[\u001b[33m'\u001b[39m\u001b[33mfeature_list\u001b[39m\u001b[33m'\u001b[39m]\n\u001b[32m     78\u001b[39m )\n\u001b[32m     80\u001b[39m \u001b[38;5;28mself\u001b[39m.model = \u001b[38;5;28mself\u001b[39m.model(\n\u001b[32m     81\u001b[39m     in_channels=\u001b[32m1\u001b[39m,\n\u001b[32m     82\u001b[39m     layer_n=\u001b[32m512\u001b[39m,\n\u001b[32m   (...)\u001b[39m\u001b[32m     88\u001b[39m     scheduler_name=\u001b[38;5;28mself\u001b[39m.config[\u001b[33m'\u001b[39m\u001b[33mscheduler\u001b[39m\u001b[33m'\u001b[39m]\n\u001b[32m     89\u001b[39m )\n\u001b[32m     91\u001b[39m \u001b[38;5;66;03m# Setup wandb_logger for experiment tracking\u001b[39;00m\n",
      "\u001b[31mKeyError\u001b[39m: 'data_dir'"
     ]
    }
   ],
   "source": [
    "import optuna\n",
    "from training.hyperparameter_optimiztation import OptunaTrainer\n",
    "\n",
    "def objective(trial):\n",
    "    model = UNET_1D\n",
    "    config[\"sweep_id\"] = datetime.datetime.now().strftime(\"%Y-%m-%d_%H-%M\")\n",
    "    config[\"dataset_name\"] = \"ECG_TEST_DATASET\"\n",
    "    config[\"model_name\"] = type(model).__name__\n",
    "    trainer = OptunaTrainer(\n",
    "        model=model,\n",
    "        config=config\n",
    "    )\n",
    "    return trainer.run_training(trial)\n",
    "\n",
    "# Optuna Hyperparameter Study\n",
    "study = optuna.create_study(direction=\"minimize\", study_name=f\"Optuna_HPO_{datetime.datetime.now().strftime('%Y-%m-%d_%H-%M')}\")\n",
    "\n",
    "# Reduce output clutter by setting verbosity to WARNING\n",
    "optuna.logging.set_verbosity(optuna.logging.WARNING)\n",
    "\n",
    "# Start optimization\n",
    "study.optimize(objective, n_trials=config['number_of_trials'], gc_after_trial=True, show_progress_bar=True)\n",
    "\n",
    "# Best result\n",
    "print(\"Best trial: \", study.best_trial)\n",
    "print(\"Best value (loss): \", study.best_value)\n"
   ]
  }
 ],
 "metadata": {
  "kernelspec": {
   "display_name": "HKA_EKG_Signalverarbeitung",
   "language": "python",
   "name": "python3"
  },
  "language_info": {
   "codemirror_mode": {
    "name": "ipython",
    "version": 3
   },
   "file_extension": ".py",
   "mimetype": "text/x-python",
   "name": "python",
   "nbconvert_exporter": "python",
   "pygments_lexer": "ipython3",
   "version": "3.12.3"
  }
 },
 "nbformat": 4,
 "nbformat_minor": 5
}
